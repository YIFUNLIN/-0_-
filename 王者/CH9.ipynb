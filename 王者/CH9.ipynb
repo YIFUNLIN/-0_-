{
 "cells": [
  {
   "cell_type": "code",
   "execution_count": 1,
   "metadata": {},
   "outputs": [
    {
     "name": "stdout",
     "output_type": "stream",
     "text": [
      "水蜜桃一斤 =  25 元\n",
      "牛肉麵一碗 =  100 元\n"
     ]
    }
   ],
   "source": [
    "fruits = {'西瓜':15, '香蕉':20, '水蜜桃':25}\n",
    "noodles = {'牛肉麵':100, '肉絲麵':80, '陽春麵':60}\n",
    "print(\"水蜜桃一斤 = \", fruits['水蜜桃'], \"元\")\n",
    "print(\"牛肉麵一碗 = \", noodles['牛肉麵'], \"元\")"
   ]
  },
  {
   "cell_type": "code",
   "execution_count": 2,
   "metadata": {},
   "outputs": [
    {
     "name": "stdout",
     "output_type": "stream",
     "text": [
      "西瓜已經在字典了\n"
     ]
    }
   ],
   "source": [
    "fruits = {'西瓜':15, '香蕉':20, '水蜜桃':25}\n",
    "key = input(\"請輸入鍵(key) = \")\n",
    "if key in fruits:\n",
    "    print(f\"{key}已經在字典了\")\n",
    "else:\n",
    "    value = input(\"請輸入值(value) = \")\n",
    "    fruits[key] = value\n",
    "    print(\"新的fruits字典內容 = \", fruits)"
   ]
  },
  {
   "cell_type": "code",
   "execution_count": 3,
   "metadata": {},
   "outputs": [
    {
     "name": "stdout",
     "output_type": "stream",
     "text": [
      "水果字典: {'西瓜': 15, '香蕉': 20, '水蜜桃': 25}\n",
      "流連 不在水果字典內\n"
     ]
    }
   ],
   "source": [
    "fruits = {'西瓜':15, '香蕉':20, '水蜜桃':25}\n",
    "print(\"水果字典:\", fruits)\n",
    "fruit = input(\"請輸入要刪除的水果 : \")\n",
    "if fruit in fruits:\n",
    "    del fruits[fruit]\n",
    "    print(\"新水果字典:\", fruits)\n",
    "else:\n",
    "    print(f\"{fruit} 不在水果字典內\")"
   ]
  },
  {
   "cell_type": "code",
   "execution_count": 4,
   "metadata": {},
   "outputs": [
    {
     "name": "stdout",
     "output_type": "stream",
     "text": [
      "西瓜 變數不存在\n"
     ]
    }
   ],
   "source": [
    "fruits = {'西瓜':15, '香蕉':20, '水蜜桃':25}\n",
    "var_dict = input(\"請輸入要刪除的變數 : \")\n",
    "if var_dict in locals():    # 檢查變數是否存在\n",
    "    print(f\"{var_dict} 變數存在\")\n",
    "    del fruits\n",
    "    print(f\"刪除 {var_dict} 變數成功\")\n",
    "else:\n",
    "    print(f\"{var_dict} 變數不存在\")"
   ]
  },
  {
   "cell_type": "code",
   "execution_count": 5,
   "metadata": {},
   "outputs": [
    {
     "name": "stdout",
     "output_type": "stream",
     "text": [
      "位址 =  1343588542720   fruits元素 =  {'西瓜': 15, '香蕉': 20, '水蜜桃': 25, '蘋果': 18}\n",
      "位址 =  1343588520704   fruits元素 =  {'西瓜': 15, '香蕉': 20, '水蜜桃': 25, '蘋果': 18}\n"
     ]
    }
   ],
   "source": [
    "fruits = {'西瓜':15, '香蕉':20, '水蜜桃':25, '蘋果':18}\n",
    "cfruits = fruits.copy( )\n",
    "print(\"位址 = \", id(fruits), \"  fruits元素 = \", fruits)\n",
    "print(\"位址 = \", id(cfruits), \"  fruits元素 = \", cfruits)"
   ]
  },
  {
   "cell_type": "code",
   "execution_count": 6,
   "metadata": {},
   "outputs": [
    {
     "name": "stdout",
     "output_type": "stream",
     "text": [
      "{1: 'Nissan', 2: 'Toyota', 3: 'BMW', 4: 'Benz'}\n"
     ]
    }
   ],
   "source": [
    "dealerA = {1:'Nissan', 2:'Toyota', 3:'Lexus'}\n",
    "dealerB = {3:'BMW', 4:'Benz'}\n",
    "dealerA.update(dealerB)\n",
    "print(dealerA)"
   ]
  },
  {
   "cell_type": "code",
   "execution_count": 7,
   "metadata": {},
   "outputs": [
    {
     "name": "stdout",
     "output_type": "stream",
     "text": [
      "{'日本': '東京', '泰國': '曼谷', '英國': '倫敦'}\n"
     ]
    }
   ],
   "source": [
    "nation = [['日本','東京'],['泰國','曼谷'],['英國','倫敦']]\n",
    "nationDict = dict(nation)\n",
    "print(nationDict)"
   ]
  },
  {
   "cell_type": "code",
   "execution_count": 8,
   "metadata": {},
   "outputs": [
    {
     "name": "stdout",
     "output_type": "stream",
     "text": [
      "{'d': 2, 'e': 2, 'p': 1, 'm': 1, 'i': 1, 'n': 1}\n"
     ]
    }
   ],
   "source": [
    "word = 'deepmind'\n",
    "alphabetCount = {alphabet:word.count(alphabet) for alphabet in word}\n",
    "print(alphabetCount)"
   ]
  },
  {
   "cell_type": "code",
   "execution_count": null,
   "metadata": {},
   "outputs": [],
   "source": []
  }
 ],
 "metadata": {
  "kernelspec": {
   "display_name": "base",
   "language": "python",
   "name": "python3"
  },
  "language_info": {
   "codemirror_mode": {
    "name": "ipython",
    "version": 3
   },
   "file_extension": ".py",
   "mimetype": "text/x-python",
   "name": "python",
   "nbconvert_exporter": "python",
   "pygments_lexer": "ipython3",
   "version": "3.8.13"
  }
 },
 "nbformat": 4,
 "nbformat_minor": 2
}
