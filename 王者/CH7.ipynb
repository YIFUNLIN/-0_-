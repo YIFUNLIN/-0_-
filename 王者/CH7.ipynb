{
 "cells": [
  {
   "cell_type": "code",
   "execution_count": 1,
   "metadata": {},
   "outputs": [
    {
     "name": "stdout",
     "output_type": "stream",
     "text": [
      "列印前3位球員\n",
      "Curry\n",
      "Jordan\n",
      "James\n",
      "列印後3位球員\n",
      "James\n",
      "Durant\n",
      "Obama\n"
     ]
    }
   ],
   "source": [
    "players = ['Curry', 'Jordan', 'James', 'Durant', 'Obama']\n",
    "print(\"列印前3位球員\")\n",
    "for player in players[:3]:\n",
    "    print(player)\n",
    "print(\"列印後3位球員\")\n",
    "for player in players[-3:]:\n",
    "    print(player)"
   ]
  },
  {
   "cell_type": "code",
   "execution_count": 2,
   "metadata": {},
   "outputs": [
    {
     "name": "stdout",
     "output_type": "stream",
     "text": [
      "['da2.py', 'da3.py']\n"
     ]
    }
   ],
   "source": [
    "files = ['da1.c','da2.py','da3.py','da4.java']\n",
    "py = []\n",
    "for i in files:\n",
    "    if i.endswith('.py'):\n",
    "        py.append(i)\n",
    "\n",
    "print(py)"
   ]
  },
  {
   "cell_type": "code",
   "execution_count": 3,
   "metadata": {},
   "outputs": [
    {
     "name": "stdout",
     "output_type": "stream",
     "text": [
      "第 1 年本金和 : 50749\n",
      "第 2 年本金和 : 51511\n",
      "第 3 年本金和 : 52283\n",
      "第 4 年本金和 : 53068\n",
      "第 5 年本金和 : 53864\n"
     ]
    }
   ],
   "source": [
    "money = 50000\n",
    "rate = 0.015\n",
    "n = 5\n",
    "for i in range(n):\n",
    "    money *= (1 + rate)\n",
    "    print(f\"第 {i+1} 年本金和 : {int(money)}\")"
   ]
  },
  {
   "cell_type": "code",
   "execution_count": 4,
   "metadata": {},
   "outputs": [
    {
     "name": "stdout",
     "output_type": "stream",
     "text": [
      "[0, 1, 2, 3, 4, 5]\n"
     ]
    }
   ],
   "source": [
    "xlst = []\n",
    "xlst.append(0)\n",
    "xlst.append(1)\n",
    "xlst.append(2)\n",
    "xlst.append(3)\n",
    "xlst.append(4)\n",
    "xlst.append(5)\n",
    "print(xlst)"
   ]
  },
  {
   "cell_type": "code",
   "execution_count": 5,
   "metadata": {},
   "outputs": [
    {
     "name": "stdout",
     "output_type": "stream",
     "text": [
      "[0, 1, 2, 3, 4, 5]\n"
     ]
    }
   ],
   "source": [
    "xlst = []\n",
    "for n in range(6):\n",
    "    xlst.append(n)\n",
    "print(xlst)\n"
   ]
  },
  {
   "cell_type": "code",
   "execution_count": 6,
   "metadata": {},
   "outputs": [
    {
     "name": "stdout",
     "output_type": "stream",
     "text": [
      "[0, 1, 2, 3, 4, 5]\n"
     ]
    }
   ],
   "source": [
    "xlst = [ n for n in range(6)]\n",
    "print(xlst)\n"
   ]
  },
  {
   "cell_type": "code",
   "execution_count": 7,
   "metadata": {},
   "outputs": [
    {
     "name": "stdout",
     "output_type": "stream",
     "text": [
      "場次 1 : 得分 21\n",
      "場次 2 : 得分 29\n",
      "場次 4 : 得分 33\n",
      "場次 7 : 得分 26\n",
      "場次 8 : 得分 28\n"
     ]
    }
   ],
   "source": [
    "scores = [21,29,18,33,12,17,26,28,15,19] \n",
    "# 解析enumerate物件\n",
    "for count, score in enumerate(scores, 1):   # 初始值是 1\n",
    "    if score >= 20:\n",
    "        print(f\"場次 {count} : 得分 {score}\")"
   ]
  },
  {
   "cell_type": "code",
   "execution_count": 8,
   "metadata": {},
   "outputs": [
    {
     "name": "stdout",
     "output_type": "stream",
     "text": [
      "購物中心\n",
      "['電視', '冰箱', '洗衣機', '電扇', '冷氣機'] \n",
      "\n",
      "今天購買商品 ['電視']\n"
     ]
    }
   ],
   "source": [
    "store = '購物中心'\n",
    "products = ['電視','冰箱','洗衣機','電扇','冷氣機']\n",
    "cart = []                       # 購物車\n",
    "print(store)\n",
    "print(products,\"\\n\")\n",
    "while True:                     # 這是while無限迴圈\n",
    "    msg = input(\"請輸入購買商品(q=quit) : \")\n",
    "    if msg == 'q' or msg=='Q':\n",
    "        break\n",
    "    else:\n",
    "        if msg in products:\n",
    "            cart.append(msg)\n",
    "print(\"今天購買商品\", cart)\n"
   ]
  },
  {
   "cell_type": "code",
   "execution_count": null,
   "metadata": {},
   "outputs": [],
   "source": []
  }
 ],
 "metadata": {
  "kernelspec": {
   "display_name": "base",
   "language": "python",
   "name": "python3"
  },
  "language_info": {
   "codemirror_mode": {
    "name": "ipython",
    "version": 3
   },
   "file_extension": ".py",
   "mimetype": "text/x-python",
   "name": "python",
   "nbconvert_exporter": "python",
   "pygments_lexer": "ipython3",
   "version": "3.8.13"
  }
 },
 "nbformat": 4,
 "nbformat_minor": 2
}
