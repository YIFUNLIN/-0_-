{
 "cells": [
  {
   "cell_type": "code",
   "execution_count": 5,
   "metadata": {},
   "outputs": [
    {
     "name": "stdout",
     "output_type": "stream",
     "text": [
      "10\n",
      "<class 'int'>\n",
      "20.0\n",
      "<class 'float'>\n"
     ]
    }
   ],
   "source": [
    "x = 10\n",
    "print(x)\n",
    "print(type(x))      # 加法前列出x資料型態\n",
    "y = float(x) + 10\n",
    "print(y)\n",
    "print(type(y))      # 加法後列出y資料型態\n"
   ]
  },
  {
   "cell_type": "code",
   "execution_count": 2,
   "metadata": {},
   "outputs": [
    {
     "name": "stdout",
     "output_type": "stream",
     "text": [
      "10.5\n",
      "<class 'float'>\n",
      "15\n",
      "<class 'int'>\n"
     ]
    }
   ],
   "source": [
    "x = 10.5\n",
    "print(x)\n",
    "print(type(x))      # 加法前列出x資料型態\n",
    "y = int(x) + 5\n",
    "print(y)\n",
    "print(type(y))      # 加法後列出y資料型態"
   ]
  },
  {
   "cell_type": "code",
   "execution_count": 3,
   "metadata": {},
   "outputs": [
    {
     "name": "stdout",
     "output_type": "stream",
     "text": [
      "True\n",
      "1\n",
      "<class 'bool'>\n",
      "False\n",
      "0\n",
      "<class 'bool'>\n"
     ]
    }
   ],
   "source": [
    "x = True\n",
    "print(x)            # 列出 x 資料\n",
    "print(int(x))       # 列出強制轉換 int(x)\n",
    "print(type(x))      # 列出 x 資料型態\n",
    "y = False\n",
    "print(y)            # 列出 y 資料\n",
    "print(int(y))       # 列出強制轉換 int(y)\n",
    "print(type(y))      # 列出 y 資料型態"
   ]
  },
  {
   "cell_type": "code",
   "execution_count": 4,
   "metadata": {},
   "outputs": [
    {
     "name": "stdout",
     "output_type": "stream",
     "text": [
      "AAAAAAAAAA\n",
      "ABCABCABCABCABC\n"
     ]
    }
   ],
   "source": [
    "x1 = \"A\"\n",
    "x2 = x1 * 10\n",
    "print(x2)             # 列印字串乘以整數\n",
    "x3 = \"ABC\"\n",
    "x4 = x3 * 5\n",
    "print(x4)             # 列印字串乘以整數"
   ]
  },
  {
   "cell_type": "code",
   "execution_count": 3,
   "metadata": {},
   "outputs": [
    {
     "name": "stdout",
     "output_type": "stream",
     "text": [
      "不含r字元的輸出\n",
      "Hello!\n",
      "Python\n",
      "含r字元的輸出\n",
      "Hello!\\nPython\n"
     ]
    }
   ],
   "source": [
    "str1 = \"Hello!\\nPython\"\n",
    "print(\"不含r字元的輸出\")\n",
    "print(str1)\n",
    "str2 = r\"Hello!\\nPython\"\n",
    "print(\"含r字元的輸出\")\n",
    "print(str2)\n"
   ]
  },
  {
   "cell_type": "code",
   "execution_count": 2,
   "metadata": {},
   "outputs": [
    {
     "name": "stdout",
     "output_type": "stream",
     "text": [
      "a\n",
      "97\n",
      "0x5e06\n"
     ]
    }
   ],
   "source": [
    "x1 = 97\n",
    "x2 = chr(x1)      \n",
    "print(x2)               # 輸出數值97的字元\n",
    "x3 = ord(x2)\n",
    "print(x3)               # 輸出字元x3的Unicode(10進位)碼值\n",
    "x4 = '帆'\n",
    "print(hex(ord(x4)))     # 輸出字元'帆'的Unicode(16進位)碼值"
   ]
  },
  {
   "cell_type": "code",
   "execution_count": 1,
   "metadata": {},
   "outputs": [
    {
     "name": "stdout",
     "output_type": "stream",
     "text": [
      "總共需要天數\n",
      "13\n",
      "小時數\n",
      "1\n"
     ]
    }
   ],
   "source": [
    "dist = 384400                   # 地球到月亮距離\n",
    "speed = 1225                    # 馬赫速度每小時1225公里\n",
    "total_hours = dist // speed     # 計算小時數\n",
    "days = total_hours // 24        # 商 = 計算天數\n",
    "hours = total_hours % 24        # 餘數 = 計算小時數\n",
    "print(\"總共需要天數\")\n",
    "print(days)\n",
    "print(\"小時數\")\n",
    "print(hours)\n"
   ]
  },
  {
   "cell_type": "code",
   "execution_count": 1,
   "metadata": {},
   "outputs": [
    {
     "name": "stdout",
     "output_type": "stream",
     "text": [
      "2點的距離是\n",
      "2.8284271247461903\n"
     ]
    }
   ],
   "source": [
    "x1 = 1\n",
    "y1 = 8\n",
    "x2 = 3\n",
    "y2 = 10\n",
    "dist = ((x1 - x2) ** 2 + (y1 - y2) ** 2) ** 0.5\n",
    "print(\"2點的距離是\")\n",
    "print(dist)\n"
   ]
  }
 ],
 "metadata": {
  "kernelspec": {
   "display_name": "base",
   "language": "python",
   "name": "python3"
  },
  "language_info": {
   "codemirror_mode": {
    "name": "ipython",
    "version": 3
   },
   "file_extension": ".py",
   "mimetype": "text/x-python",
   "name": "python",
   "nbconvert_exporter": "python",
   "pygments_lexer": "ipython3",
   "version": "3.8.13"
  }
 },
 "nbformat": 4,
 "nbformat_minor": 2
}
