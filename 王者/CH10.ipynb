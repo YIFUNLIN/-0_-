{
 "cells": [
  {
   "cell_type": "code",
   "execution_count": 1,
   "metadata": {},
   "outputs": [
    {
     "name": "stdout",
     "output_type": "stream",
     "text": [
      "列印類別 =  <class 'dict'>\n",
      "列印類別 =  <class 'set'>\n"
     ]
    }
   ],
   "source": [
    "empty_dict = {}                      # 這是建立空字典\n",
    "print(\"列印類別 = \", type(empty_dict))\n",
    "empty_set = set()                    # 這是建立空集合\n",
    "print(\"列印類別 = \", type(empty_set))"
   ]
  },
  {
   "cell_type": "code",
   "execution_count": 2,
   "metadata": {},
   "outputs": [
    {
     "name": "stdout",
     "output_type": "stream",
     "text": [
      "A與B集合相等 False\n",
      "A與C集合相等 True\n"
     ]
    }
   ],
   "source": [
    "A = {1, 2, 3, 4, 5}           \n",
    "B = {3, 4, 5, 6, 7}                 \n",
    "C = {1, 2, 3, 4, 5}                  \n",
    "                          \n",
    "print(\"A與B集合相等\", A == B)\n",
    "                             \n",
    "print(\"A與C集合相等\", A == C)\n",
    "          "
   ]
  },
  {
   "cell_type": "code",
   "execution_count": 3,
   "metadata": {},
   "outputs": [
    {
     "name": "stdout",
     "output_type": "stream",
     "text": [
      "賦值 - 觀察numset         {10, 1, 2, 3}\n",
      "賦值 - 觀察deep_numset    {10, 1, 2, 3}\n",
      "拷貝 - 觀察numset         {10, 1, 2, 3}\n",
      "拷貝 - 觀察shallow_numset {1, 2, 3, 100, 10}\n"
     ]
    }
   ],
   "source": [
    "numset = {1, 2, 3}\n",
    "deep_numset = numset\n",
    "deep_numset.add(10)\n",
    "print(\"賦值 - 觀察numset        \", numset)\n",
    "print(\"賦值 - 觀察deep_numset   \", deep_numset)\n",
    "\n",
    "# 淺拷貝shallow copy\n",
    "shallow_numset = numset.copy( )\n",
    "shallow_numset.add(100)\n",
    "print(\"拷貝 - 觀察numset        \", numset)\n",
    "print(\"拷貝 - 觀察shallow_numset\", shallow_numset)"
   ]
  },
  {
   "cell_type": "code",
   "execution_count": 4,
   "metadata": {},
   "outputs": [
    {
     "name": "stdout",
     "output_type": "stream",
     "text": [
      "刪除前的countries集合  {'Japan', 'China', 'France'}\n",
      "日本 不存在\n"
     ]
    }
   ],
   "source": [
    "countries = {'Japan', 'China', 'France'}\n",
    "print(\"刪除前的countries集合 \", countries)\n",
    "country = input(\"請輸入國家 : \")\n",
    "if country in countries:    \n",
    "    countries.remove('Japan')\n",
    "    print(\"刪除後的countries集合 \", countries)\n",
    "else:\n",
    "    print(f\"{country} 不存在\")\n"
   ]
  },
  {
   "cell_type": "code",
   "execution_count": 5,
   "metadata": {},
   "outputs": [
    {
     "name": "stdout",
     "output_type": "stream",
     "text": [
      "刪除前的animals集合  {'dog', 'bird', 'cat'}\n",
      "刪除後的animals集合  {'bird', 'cat'}\n",
      "所刪除的元素是       dog\n"
     ]
    }
   ],
   "source": [
    "animals = {'dog', 'cat', 'bird'}\n",
    "print(\"刪除前的animals集合 \", animals)\n",
    "ret_element = animals.pop( )        \n",
    "print(\"刪除後的animals集合 \", animals)\n",
    "print(\"所刪除的元素是      \", ret_element)"
   ]
  },
  {
   "cell_type": "code",
   "execution_count": 6,
   "metadata": {},
   "outputs": [
    {
     "name": "stdout",
     "output_type": "stream",
     "text": [
      "有共同的元素傳回值是    False\n",
      "沒有共同的元素傳回值是  True\n"
     ]
    }
   ],
   "source": [
    "A = {'a', 'b', 'c'}\n",
    "B = {'c', 'd', 'e'}\n",
    "C = {'h', 'k', 'p'}\n",
    "\n",
    "boolean = A.isdisjoint(B)       \n",
    "print(\"有共同的元素傳回值是   \", boolean)\n",
    "\n",
    "\n",
    "boolean = A.isdisjoint(C)      \n",
    "print(\"沒有共同的元素傳回值是 \", boolean)\n"
   ]
  },
  {
   "cell_type": "code",
   "execution_count": 9,
   "metadata": {},
   "outputs": [
    {
     "name": "stdout",
     "output_type": "stream",
     "text": [
      "有 5 人參加數學或物理夏令營名單  :  {'Damon', 'Peter', 'Tom', 'Nelson', 'Kevin'}\n",
      "沒有參加任何夏令營有 5 人名單是 :  {'Norton', 'Mary', 'Ford', 'Ivan', 'John'}\n"
     ]
    }
   ],
   "source": [
    "students = {'Peter', 'Norton', 'Kevin', 'Mary', 'John',     \n",
    "            'Ford', 'Nelson', 'Damon', 'Ivan', 'Tom'\n",
    "           }\n",
    "\n",
    "Math = {'Peter', 'Kevin', 'Damon'}          # 數學夏令營參加人員\n",
    "Physics = {'Nelson', 'Damon', 'Tom' }       # 物理夏令營參加人員\n",
    "\n",
    "MorP = Math | Physics\n",
    "print(\"有 %d 人參加數學或物理夏令營名單  : \" % len(MorP), MorP )\n",
    "unAttend = students - MorP\n",
    "print(\"沒有參加任何夏令營有 %d 人名單是 : \" % len(unAttend), unAttend)"
   ]
  },
  {
   "cell_type": "code",
   "execution_count": 8,
   "metadata": {},
   "outputs": [
    {
     "name": "stdout",
     "output_type": "stream",
     "text": [
      "共同產品 : {'cherry', 'banana'}\n",
      "供應商 A 的獨特產品 : {'apple', 'date', 'elderberry'}\n",
      "供應商 B 的獨特產品 : {'grape', 'fig'}\n",
      "所有產品 : {'date', 'apple', 'elderberry', 'banana', 'grape', 'fig', 'cherry'}\n"
     ]
    }
   ],
   "source": [
    "supplier_a_products = {\"apple\", \"banana\", \"cherry\", \"date\", \"elderberry\"}\n",
    "supplier_b_products = {\"banana\", \"cherry\", \"fig\", \"grape\"}\n",
    "\n",
    "# 找到共同產品\n",
    "common_products = supplier_a_products.intersection(supplier_b_products)\n",
    "print(f\"共同產品 : {common_products}\")\n",
    "\n",
    "# 找到只由供應商 A 提供的獨特產品\n",
    "unique_to_a = supplier_a_products - supplier_b_products\n",
    "print(f\"供應商 A 的獨特產品 : {unique_to_a}\")\n",
    "\n",
    "# 找到只由供應商 B 提供的獨特產品\n",
    "unique_to_b = supplier_b_products - supplier_a_products\n",
    "print(f\"供應商 B 的獨特產品 : {unique_to_b}\")\n",
    "\n",
    "# 所有提供的產品\n",
    "all_products = supplier_a_products.union(supplier_b_products)\n",
    "print(f\"所有產品 : {all_products}\")\n",
    "\n"
   ]
  },
  {
   "cell_type": "code",
   "execution_count": null,
   "metadata": {},
   "outputs": [],
   "source": []
  },
  {
   "cell_type": "code",
   "execution_count": null,
   "metadata": {},
   "outputs": [],
   "source": []
  }
 ],
 "metadata": {
  "kernelspec": {
   "display_name": "base",
   "language": "python",
   "name": "python3"
  },
  "language_info": {
   "codemirror_mode": {
    "name": "ipython",
    "version": 3
   },
   "file_extension": ".py",
   "mimetype": "text/x-python",
   "name": "python",
   "nbconvert_exporter": "python",
   "pygments_lexer": "ipython3",
   "version": "3.8.13"
  }
 },
 "nbformat": 4,
 "nbformat_minor": 2
}
