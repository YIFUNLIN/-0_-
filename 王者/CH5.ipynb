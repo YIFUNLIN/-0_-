{
 "cells": [
  {
   "cell_type": "code",
   "execution_count": 10,
   "metadata": {},
   "outputs": [
    {
     "name": "stdout",
     "output_type": "stream",
     "text": [
      "你年齡太小\n",
      "需年滿20歲才可以購買菸酒\n"
     ]
    }
   ],
   "source": [
    "age = input(\"請輸入年齡: \")\n",
    "if (int(age) < 20):\n",
    "    print(\"你年齡太小\")\n",
    "    print(\"需年滿20歲才可以購買菸酒\")"
   ]
  },
  {
   "cell_type": "code",
   "execution_count": 1,
   "metadata": {},
   "outputs": [
    {
     "name": "stdout",
     "output_type": "stream",
     "text": [
      "輸出絕對值\n",
      "絕對值是 5\n"
     ]
    }
   ],
   "source": [
    "print(\"輸出絕對值\")\n",
    "num = input(\"請輸入任意整數值: \")\n",
    "x = int(num)\n",
    "if (int(x) < 0): x = -x\n",
    "print(f\"絕對值是 {x}\")\n"
   ]
  },
  {
   "cell_type": "code",
   "execution_count": 2,
   "metadata": {},
   "outputs": [
    {
     "name": "stdout",
     "output_type": "stream",
     "text": [
      "3\n"
     ]
    }
   ],
   "source": [
    "items = eval(input(\"請輸入 1 個數字：\"))\n",
    "items = 10 if items >= 10 else items\n",
    "print(items)"
   ]
  },
  {
   "cell_type": "code",
   "execution_count": 3,
   "metadata": {},
   "outputs": [
    {
     "name": "stdout",
     "output_type": "stream",
     "text": [
      "計算最終成績\n",
      " D\n"
     ]
    }
   ],
   "source": [
    "print(\"計算最終成績\")\n",
    "score = input(\"請輸入分數 : \")\n",
    "sc = int(score)\n",
    "if (sc >= 90):\n",
    "    print(\" A\")\n",
    "elif (sc >= 80):\n",
    "    print(\" B\")\n",
    "elif (sc >= 70):\n",
    "    print(\" C\")\n",
    "elif (sc >= 60):\n",
    "    print(\" D\")\n",
    "else:\n",
    "    print(\" F\")\n",
    "    "
   ]
  },
  {
   "cell_type": "code",
   "execution_count": 4,
   "metadata": {},
   "outputs": [
    {
     "name": "stdout",
     "output_type": "stream",
     "text": [
      "判斷輸入字元類別\n",
      "這是大寫字元\n"
     ]
    }
   ],
   "source": [
    "print(\"判斷輸入字元類別\")\n",
    "ch = input(\"請輸入字元 : \")\n",
    "if ord(ch) >= ord(\"A\") and ord(ch) <= ord(\"Z\"):\n",
    "    print(\"這是大寫字元\")\n",
    "elif ord(ch) >= ord(\"a\") and ord(ch) <= ord(\"z\"):\n",
    "    print(\"這是小寫字元\")\n",
    "elif ord(ch) >= ord(\"0\") and ord(ch) <= ord(\"9\"):\n",
    "    print(\"這是數字\")\n",
    "else:\n",
    "    print(\"這是特殊字元\")\n",
    "    "
   ]
  },
  {
   "cell_type": "code",
   "execution_count": 5,
   "metadata": {},
   "outputs": [
    {
     "name": "stdout",
     "output_type": "stream",
     "text": [
      "體重不肥胖\n"
     ]
    }
   ],
   "source": [
    "height = eval(input(\"請輸入身高(公分)：\"))\n",
    "weight = eval(input(\"請輸入體重(公斤)：\"))\n",
    "bmi = weight / (height / 100) ** 2 \n",
    "if bmi >= 28:\n",
    "    print(f\"體重肥胖\")\n",
    "else:\n",
    "    print(f\"體重不肥胖\")\n"
   ]
  },
  {
   "cell_type": "code",
   "execution_count": 6,
   "metadata": {},
   "outputs": [
    {
     "name": "stdout",
     "output_type": "stream",
     "text": [
      "r1 = -0.2324,    r2 = -1.4343\n"
     ]
    }
   ],
   "source": [
    "a = 3\n",
    "b = 5\n",
    "c = 1\n",
    "\n",
    "r1 = (-b + (b**2-4*a*c)**0.5)/(2*a)\n",
    "r2 = (-b - (b**2-4*a*c)**0.5)/(2*a)\n",
    "print(f\"{r1 = :6.4f},    {r2 = :6.4f}\")"
   ]
  },
  {
   "cell_type": "code",
   "execution_count": 7,
   "metadata": {},
   "outputs": [
    {
     "name": "stdout",
     "output_type": "stream",
     "text": [
      "判斷輸入年份是否潤年\n",
      "2024 是潤年\n"
     ]
    }
   ],
   "source": [
    "print(\"判斷輸入年份是否潤年\")\n",
    "year = input(\"請輸入年份: \")\n",
    "rem4 = int(year) % 4\n",
    "rem100 = int(year) % 100\n",
    "rem400 = int(year) % 400\n",
    "if rem4 == 0:\n",
    "    if rem100 != 0 or rem400 == 0:\n",
    "        print(f\"{year} 是潤年\")\n",
    "    else:\n",
    "        print(f\"{year} 不是潤年\")\n",
    "else:\n",
    "    print(f\"{year} 不是潤年\")\n"
   ]
  },
  {
   "cell_type": "code",
   "execution_count": null,
   "metadata": {},
   "outputs": [],
   "source": []
  }
 ],
 "metadata": {
  "kernelspec": {
   "display_name": "base",
   "language": "python",
   "name": "python3"
  },
  "language_info": {
   "codemirror_mode": {
    "name": "ipython",
    "version": 3
   },
   "file_extension": ".py",
   "mimetype": "text/x-python",
   "name": "python",
   "nbconvert_exporter": "python",
   "pygments_lexer": "ipython3",
   "version": "3.8.13"
  }
 },
 "nbformat": 4,
 "nbformat_minor": 2
}
