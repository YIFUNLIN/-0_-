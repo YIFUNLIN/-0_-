{
 "cells": [
  {
   "cell_type": "code",
   "execution_count": 1,
   "metadata": {},
   "outputs": [
    {
     "name": "stdout",
     "output_type": "stream",
     "text": [
      "Champion!!\n"
     ]
    }
   ],
   "source": [
    "def warriors():\n",
    "    print('Champion!!')\n",
    "\n",
    "warriors()"
   ]
  },
  {
   "cell_type": "code",
   "execution_count": 2,
   "metadata": {},
   "outputs": [
    {
     "name": "stdout",
     "output_type": "stream",
     "text": [
      "我的興趣是 旅遊\n",
      "在 旅遊 中, 最喜歡的是 敦煌\n",
      "\n",
      "我的興趣是 旅遊\n",
      "在 旅遊 中, 最喜歡的是 敦煌\n",
      "\n"
     ]
    }
   ],
   "source": [
    "def interest(interest_type, subject):\n",
    "    \"\"\" 顯示興趣和主題 \"\"\"\n",
    "    print(f\"我的興趣是 {interest_type}\")\n",
    "    print(f\"在 {interest_type} 中, 最喜歡的是 {subject}\")\n",
    "    print()\n",
    "\n",
    "interest(interest_type='旅遊', subject='敦煌')  # 位置正確\n",
    "interest(subject='敦煌', interest_type='旅遊')  # 位置更動"
   ]
  },
  {
   "cell_type": "code",
   "execution_count": 3,
   "metadata": {},
   "outputs": [
    {
     "name": "stdout",
     "output_type": "stream",
     "text": [
      "a - b =  -1\n"
     ]
    }
   ],
   "source": [
    "def sub(x1, x2):\n",
    "    result = x1 - x2\n",
    "    return result         \n",
    "\n",
    "         \n",
    "a = int(input(\"a = \"))\n",
    "b = int(input(\"b = \"))\n",
    "print(\"a - b = \", sub(a, b))   "
   ]
  },
  {
   "cell_type": "code",
   "execution_count": 4,
   "metadata": {},
   "outputs": [
    {
     "name": "stdout",
     "output_type": "stream",
     "text": [
      "{'VIP_ID': '101', 'Name': 'Nelson'}\n"
     ]
    }
   ],
   "source": [
    "def build_vip(id, name):\n",
    "    \"\"\" 建立VIP資訊 \"\"\"\n",
    "    vip_dict = {'VIP_ID':id, 'Name':name}\n",
    "    return vip_dict\n",
    "\n",
    "member = build_vip('101', 'Nelson')\n",
    "print(member)\n"
   ]
  },
  {
   "cell_type": "code",
   "execution_count": 5,
   "metadata": {},
   "outputs": [
    {
     "name": "stdout",
     "output_type": "stream",
     "text": [
      "建立VIP資訊系統\n",
      "{'VIP_ID': '66', 'Name': '王', 'Tel': '000'} \n",
      "\n",
      "歡迎下次再使用\n"
     ]
    }
   ],
   "source": [
    "def build_vip(id, name, tel = ''):\n",
    "    \"\"\" 建立VIP資訊 \"\"\"\n",
    "    vip_dict = {'VIP_ID':id, 'Name':name}\n",
    "    if tel:\n",
    "        vip_dict['Tel'] = tel\n",
    "    return vip_dict\n",
    "\n",
    "while True:\n",
    "    print(\"建立VIP資訊系統\")\n",
    "    idnum = input(\"請輸入ID: \")\n",
    "    name = input(\"請輸入姓名: \")    \n",
    "    tel = input(\"請輸入電話號碼: \")        # 如果直接按Enter可不建立此欄位\n",
    "    member = build_vip(idnum, name, tel)   # 建立字典\n",
    "    print(member, '\\n')\n",
    "    repeat = input(\"是否繼續(y/n)? 輸入非y字元可結束系統: \")\n",
    "    if repeat != 'y':\n",
    "        break\n",
    "\n",
    "print(\"歡迎下次再使用\")"
   ]
  },
  {
   "cell_type": "code",
   "execution_count": 6,
   "metadata": {},
   "outputs": [
    {
     "name": "stdout",
     "output_type": "stream",
     "text": [
      "主程式 id(x) = :  1802361626368 \t [1, 2]\n",
      "函  數 id(n) = :  1802361626368 \t [1, 2]\n",
      "函  數 id(n) = :  1802361626368 \t [5, 2]\n",
      "主程式 id(x) = :  1802361626368 \t [5, 2]\n"
     ]
    }
   ],
   "source": [
    "def mydata(n):\n",
    "    print(f\"函  數 id(n) = :  {id(n)} \\t {n}\")\n",
    "    n[0] = 5\n",
    "    print(f\"函  數 id(n) = :  {id(n)} \\t {n}\")\n",
    "\n",
    "x = [1, 2]\n",
    "print(\"主程式 id(x) = : \", id(x), \"\\t\", x)\n",
    "mydata(x)\n",
    "print(\"主程式 id(x) = : \", id(x), \"\\t\", x)"
   ]
  },
  {
   "cell_type": "code",
   "execution_count": 7,
   "metadata": {},
   "outputs": [
    {
     "name": "stdout",
     "output_type": "stream",
     "text": [
      "1.4142135623730951\n"
     ]
    }
   ],
   "source": [
    "def dist(x1,y1,x2,y2):          # 計算2點之距離函數\n",
    "    def mySqrt(z):              # 計算開根號值\n",
    "        return z ** 0.5\n",
    "    dx = (x1 - x2) ** 2\n",
    "    dy = (y1 - y2) ** 2\n",
    "    return mySqrt(dx+dy)\n",
    "\n",
    "print(dist(0,0,1,1))"
   ]
  },
  {
   "cell_type": "code",
   "execution_count": 8,
   "metadata": {},
   "outputs": [
    {
     "name": "stdout",
     "output_type": "stream",
     "text": [
      "3 13\n"
     ]
    }
   ],
   "source": [
    "def outer(a, b):\n",
    "    ''' a 和 b 將是inner()的環境變數 '''\n",
    "    def inner(x):\n",
    "        return a * x + b    \n",
    "    return inner\n",
    "\n",
    "f1 = outer(1, 2)\n",
    "f2 = outer(3, 4)\n",
    "print(f1(1), f2(3))"
   ]
  }
 ],
 "metadata": {
  "kernelspec": {
   "display_name": "base",
   "language": "python",
   "name": "python3"
  },
  "language_info": {
   "codemirror_mode": {
    "name": "ipython",
    "version": 3
   },
   "file_extension": ".py",
   "mimetype": "text/x-python",
   "name": "python",
   "nbconvert_exporter": "python",
   "pygments_lexer": "ipython3",
   "version": "3.8.13"
  }
 },
 "nbformat": 4,
 "nbformat_minor": 2
}
