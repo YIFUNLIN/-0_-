{
 "cells": [
  {
   "cell_type": "code",
   "execution_count": 1,
   "metadata": {},
   "outputs": [
    {
     "name": "stdout",
     "output_type": "stream",
     "text": [
      "[1, 3, 5, 1, 2, 4, 6]\n"
     ]
    }
   ],
   "source": [
    "num1 = [1, 3, 5]\n",
    "num2 = [1, 2, 4, 6]\n",
    "num3 = num1 + num2  \n",
    "print(num3)"
   ]
  },
  {
   "cell_type": "code",
   "execution_count": 2,
   "metadata": {},
   "outputs": [
    {
     "name": "stdout",
     "output_type": "stream",
     "text": [
      "['Benz', 'BMW', 'Honda', 'Benz', 'BMW', 'Honda', 'Benz', 'BMW', 'Honda']\n",
      "[1, 3, 5, 1, 3, 5, 1, 3, 5, 1, 3, 5, 1, 3, 5]\n"
     ]
    }
   ],
   "source": [
    "cars = ['Benz', 'BMW', 'Honda']\n",
    "nums = [1, 3, 5]\n",
    "carslist = cars * 3           # 串列乘以數字\n",
    "print(carslist)\n",
    "numslist = nums * 5           # 串列乘以數字\n",
    "print(numslist)   \n",
    "\n"
   ]
  },
  {
   "cell_type": "code",
   "execution_count": 4,
   "metadata": {},
   "outputs": [
    {
     "name": "stdout",
     "output_type": "stream",
     "text": [
      "2023年初NBA勇士隊主將陣容 ['Curry', 'Durant', 'Iquodala', 'Bell', 'Thompson']\n",
      "2023年末NBA勇士隊主將陣容 ['Curry', 'Durant', 'Iquodala', 'Thompson']\n"
     ]
    }
   ],
   "source": [
    "warriors = ['Curry','Durant','Iquodala','Bell','Thompson']\n",
    "print(\"2023年初NBA勇士隊主將陣容\", warriors)\n",
    "del warriors[3]             \n",
    "print(\"2023年末NBA勇士隊主將陣容\", warriors)"
   ]
  },
  {
   "cell_type": "code",
   "execution_count": 5,
   "metadata": {},
   "outputs": [
    {
     "name": "stdout",
     "output_type": "stream",
     "text": [
      "我開的第一部車是 Benz\n",
      "我現在開的車子是 BMW\n"
     ]
    }
   ],
   "source": [
    "cars = ['bmw', 'benz', 'audi']     \n",
    "carF = \"我開的第一部車是 \" + cars[1].title( )\n",
    "carN = \"我現在開的車子是 \" + cars[0].upper( )\n",
    "print(carF)\n",
    "print(carN)"
   ]
  },
  {
   "cell_type": "code",
   "execution_count": 6,
   "metadata": {},
   "outputs": [
    {
     "name": "stdout",
     "output_type": "stream",
     "text": [
      "/ DeepWisdom       /\n",
      "/DeepWisdom       /\n",
      "/ DeepWisdom/\n",
      "/DeepWisdom/\n"
     ]
    }
   ],
   "source": [
    "strN = \" DeepWisdom       \"\n",
    "strL = strN.lstrip( )       # 刪除字串左邊多餘空白\n",
    "strR = strN.rstrip( )       # 刪除字串右邊多餘空白\n",
    "strB = strN.strip( )        # 一次刪除頭尾端多餘空白\n",
    "print(f\"/{strN}/\")\n",
    "print(f\"/{strL}/\")\n",
    "print(f\"/{strR}/\")\n",
    "print(f\"/{strB}/\")"
   ]
  },
  {
   "cell_type": "code",
   "execution_count": 7,
   "metadata": {},
   "outputs": [
    {
     "name": "stdout",
     "output_type": "stream",
     "text": [
      "所刪除的內容是 : BMW 因為重複了\n",
      "新的串列內容 = ['Honda', 'Toyota', 'Ford', 'bmw']\n"
     ]
    }
   ],
   "source": [
    "cars = ['Honda','bmw','Toyota','Ford','bmw']  \n",
    "expensive = 'bmw'\n",
    "cars.remove(expensive) \n",
    "print(f\"所刪除的內容是 : {expensive.upper()} 因為重複了\")\n",
    "print(f\"新的串列內容 = {cars}\")"
   ]
  },
  {
   "cell_type": "code",
   "execution_count": 10,
   "metadata": {},
   "outputs": [
    {
     "name": "stdout",
     "output_type": "stream",
     "text": [
      "原本: ['Honda', 'bmw', 'Toyota', 'Ford', 'bmw']\n",
      "使用[::-1]來顛倒排序\n",
      "['bmw', 'Ford', 'Toyota', 'bmw', 'Honda']\n",
      "使用reverse\n",
      "['bmw', 'Ford', 'Toyota', 'bmw', 'Honda']\n"
     ]
    }
   ],
   "source": [
    "cars = ['Honda','bmw','Toyota','Ford','bmw']  \n",
    "print('原本:',cars)\n",
    "\n",
    "print(f\"使用[::-1]來顛倒排序\\n{cars[::-1]}\")\n",
    "\n",
    "cars.reverse()\n",
    "\n",
    "print(f\"使用reverse\\n{cars}\")"
   ]
  },
  {
   "cell_type": "code",
   "execution_count": 13,
   "metadata": {},
   "outputs": [
    {
     "name": "stdout",
     "output_type": "stream",
     "text": [
      "金洲勇士\n",
      "歡迎\n"
     ]
    }
   ],
   "source": [
    "warriors = []\n",
    "player = input(\"請輸入新球員: \")\n",
    "warriors.append(player)\n",
    "\n",
    "print('金洲勇士')\n",
    "new = input('請輸入新球員: ')\n",
    "if new in warriors:\n",
    "    print('歡迎')\n",
    "else:\n",
    "    print('走錯了')"
   ]
  }
 ],
 "metadata": {
  "kernelspec": {
   "display_name": "base",
   "language": "python",
   "name": "python3"
  },
  "language_info": {
   "codemirror_mode": {
    "name": "ipython",
    "version": 3
   },
   "file_extension": ".py",
   "mimetype": "text/x-python",
   "name": "python",
   "nbconvert_exporter": "python",
   "pygments_lexer": "ipython3",
   "version": "3.8.13"
  }
 },
 "nbformat": 4,
 "nbformat_minor": 2
}
