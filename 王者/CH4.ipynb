{
 "cells": [
  {
   "cell_type": "code",
   "execution_count": 1,
   "metadata": {},
   "outputs": [
    {
     "name": "stdout",
     "output_type": "stream",
     "text": [
      "勇 $$$ 士\n",
      "勇\t士\n"
     ]
    }
   ],
   "source": [
    "str1 = '勇'\n",
    "str2 = '士'\n",
    "print(str1, str2, sep=\" $$$ \")  # 以 $$$ 值位置分隔資料輸出\n",
    "\n",
    "print(str1, str2, sep=\"\\t\")     # 以Tab鍵值位置分隔資料輸出"
   ]
  },
  {
   "cell_type": "code",
   "execution_count": 2,
   "metadata": {},
   "outputs": [
    {
     "name": "stdout",
     "output_type": "stream",
     "text": [
      "100的16進位 = 64\n",
      "100的 8進位 = 144\n"
     ]
    }
   ],
   "source": [
    "x = 100\n",
    "print(\"100的16進位 = %x\\n100的 8進位 = %o\" % (x, x))"
   ]
  },
  {
   "cell_type": "code",
   "execution_count": 4,
   "metadata": {},
   "outputs": [
    {
     "name": "stdout",
     "output_type": "stream",
     "text": [
      "x=/   100/\n",
      "y=/ 10.50/\n",
      "s=/  Deep/\n",
      "x=/100/\n",
      "y=/10.50/\n",
      "s=/Deep/\n"
     ]
    }
   ],
   "source": [
    "x = 100\n",
    "print(\"x=/%6d/\" % x)\n",
    "y = 10.5\n",
    "print(\"y=/%6.2f/\" % y)\n",
    "s = \"Deep\"\n",
    "print(\"s=/%6s/\" % s)\n",
    "print(\"x=/%2d/\" % x)\n",
    "print(\"y=/%3.2f/\" % y)\n",
    "print(\"s=/%2s/\" % s)"
   ]
  },
  {
   "cell_type": "code",
   "execution_count": 5,
   "metadata": {},
   "outputs": [
    {
     "name": "stdout",
     "output_type": "stream",
     "text": [
      "https://maps.apis.com/json?city=taipei&radius=1000&type=school\n",
      "https://maps.apis.com/json?city=taipei&radius=1000&type=school\n"
     ]
    }
   ],
   "source": [
    "url = \"https://maps.apis.com/json?city=\"\n",
    "city = \"taipei\"\n",
    "r = 1000\n",
    "type = \"school\"\n",
    "print(url + city + '&radius=' + str(r) + '&type=' + type)\n",
    "print(url + \"{}&radius={}&type={}\".format(city, r, type))"
   ]
  },
  {
   "cell_type": "code",
   "execution_count": 6,
   "metadata": {},
   "outputs": [
    {
     "name": "stdout",
     "output_type": "stream",
     "text": [
      "我是Curry\n",
      "https://maps.apis.com/json?city=taipei&radius=1000&type=school\n"
     ]
    }
   ],
   "source": [
    "name = 'Curry'\n",
    "message = f\"我是{name}\"\n",
    "print(message)\n",
    "\n",
    "url = \"https://maps.apis.com/json?city=\"\n",
    "city = \"taipei\"\n",
    "r = 1000\n",
    "type = \"school\"\n",
    "my_url = url + f\"{city}&radius={r}&type={type}\"\n",
    "print(my_url)"
   ]
  },
  {
   "cell_type": "code",
   "execution_count": 1,
   "metadata": {},
   "outputs": [
    {
     "name": "stdout",
     "output_type": "stream",
     "text": [
      "歡迎使用成績輸入系統\n",
      "Curry 你的總分是 200\n",
      "============================================================\n",
      "name資料型態是 <class 'str'>\n",
      "engh資料型態是 <class 'str'>\n"
     ]
    }
   ],
   "source": [
    "print(\"歡迎使用成績輸入系統\")\n",
    "name = input(\"請輸入姓名：\")\n",
    "engh = input(\"請輸入英文成績：\")\n",
    "math = input(\"請輸入數學成績：\")\n",
    "\n",
    "\n",
    "total = int(engh) + int(math)\n",
    "\n",
    "print(f\"{name} 你的總分是 {total}\")\n",
    "print(\"=\"*60)\n",
    "\n",
    "\n",
    "print(f\"name資料型態是 {type(name)}\")\n",
    "print(f\"engh資料型態是 {type(engh)}\")\n"
   ]
  },
  {
   "cell_type": "code",
   "execution_count": 3,
   "metadata": {},
   "outputs": [
    {
     "name": "stdout",
     "output_type": "stream",
     "text": [
      "3個數字平均是   2.00\n"
     ]
    }
   ],
   "source": [
    "n1, n2, n3 = eval(input(\"請輸入3個數字：\"))\n",
    "average = (n1 + n2 + n3) / 3\n",
    "print(f\"3個數字平均是 {average:6.2f}\")\n"
   ]
  },
  {
   "cell_type": "code",
   "execution_count": 4,
   "metadata": {},
   "outputs": [
    {
     "name": "stdout",
     "output_type": "stream",
     "text": [
      "每月還款金額 55806\n",
      "總共還款金額 20090384\n"
     ]
    }
   ],
   "source": [
    "loan = eval(input(\"請輸入貸款金額：\"))\n",
    "year = eval(input(\"請輸入年限：\"))\n",
    "rate = eval(input(\"請輸入年利率：\"))\n",
    "monthrate = rate / (12*100)             # 改成百分比的月利率\n",
    "\n",
    "# 計算每月還款金額\n",
    "molecules = loan * monthrate\n",
    "denominator = 1 - (1 / (1 + monthrate) ** (year * 12))\n",
    "monthlyPay = molecules / denominator    # 每月還款金額\n",
    "totalPay = monthlyPay * year * 12       # 總共還款金額\n",
    "\n",
    "print(f\"每月還款金額 {int(monthlyPay)}\")\n",
    "print(f\"總共還款金額 {int(totalPay)}\")\n"
   ]
  },
  {
   "cell_type": "code",
   "execution_count": null,
   "metadata": {},
   "outputs": [],
   "source": []
  },
  {
   "cell_type": "code",
   "execution_count": null,
   "metadata": {},
   "outputs": [],
   "source": []
  },
  {
   "cell_type": "code",
   "execution_count": null,
   "metadata": {},
   "outputs": [],
   "source": []
  },
  {
   "cell_type": "code",
   "execution_count": null,
   "metadata": {},
   "outputs": [],
   "source": []
  },
  {
   "cell_type": "code",
   "execution_count": null,
   "metadata": {},
   "outputs": [],
   "source": []
  },
  {
   "cell_type": "code",
   "execution_count": null,
   "metadata": {},
   "outputs": [],
   "source": []
  },
  {
   "cell_type": "code",
   "execution_count": null,
   "metadata": {},
   "outputs": [],
   "source": []
  }
 ],
 "metadata": {
  "kernelspec": {
   "display_name": "base",
   "language": "python",
   "name": "python3"
  },
  "language_info": {
   "codemirror_mode": {
    "name": "ipython",
    "version": 3
   },
   "file_extension": ".py",
   "mimetype": "text/x-python",
   "name": "python",
   "nbconvert_exporter": "python",
   "pygments_lexer": "ipython3",
   "version": "3.8.13"
  }
 },
 "nbformat": 4,
 "nbformat_minor": 2
}
