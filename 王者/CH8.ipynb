{
 "cells": [
  {
   "cell_type": "code",
   "execution_count": 1,
   "metadata": {},
   "outputs": [
    {
     "name": "stdout",
     "output_type": "stream",
     "text": [
      "(1, 2, 3, 4, 5)\n",
      "('apple', 'orange')\n",
      "('James', 50)\n",
      "(10,)\n",
      "元組mixed資料型態是:  <class 'tuple'>\n"
     ]
    }
   ],
   "source": [
    "numbers1 = (1, 2, 3, 4, 5)     \n",
    "fruits = ('apple', 'orange')    \n",
    "mixed = ('James', 50)           \n",
    "val_tuple = (10,)              \n",
    "print(numbers1)\n",
    "print(fruits)\n",
    "print(mixed)\n",
    "print(val_tuple)\n",
    "print(\"元組mixed資料型態是: \",type(mixed))"
   ]
  },
  {
   "cell_type": "code",
   "execution_count": 2,
   "metadata": {},
   "outputs": [
    {
     "name": "stdout",
     "output_type": "stream",
     "text": [
      "('orange', 'banana')\n",
      "('apple', 'orange')\n",
      "('orange', 'banana', 'watermelon', 'grape')\n",
      "('watermelon', 'grape')\n",
      "('apple', 'banana', 'grape')\n"
     ]
    }
   ],
   "source": [
    "fruits = ('apple', 'orange', 'banana', 'watermelon', 'grape')\n",
    "print(fruits[1:3])\n",
    "print(fruits[:2])\n",
    "print(fruits[1:])\n",
    "print(fruits[-2:])\n",
    "print(fruits[0:5:2])"
   ]
  },
  {
   "cell_type": "code",
   "execution_count": 3,
   "metadata": {},
   "outputs": [
    {
     "name": "stdout",
     "output_type": "stream",
     "text": [
      "tup最大值是 9\n",
      "tup最小值是 1\n"
     ]
    }
   ],
   "source": [
    "tup = (1, 3, 5, 7, 9)\n",
    "print(\"tup最大值是\", max(tup))\n",
    "print(\"tup最小值是\", min(tup))"
   ]
  },
  {
   "cell_type": "code",
   "execution_count": 4,
   "metadata": {},
   "outputs": [
    {
     "name": "stdout",
     "output_type": "stream",
     "text": [
      "轉成串列輸出, 初始索引值是 0 =  [(0, 'coffee'), (1, 'tea'), (2, 'wine')]\n",
      "<class 'tuple'>\n"
     ]
    }
   ],
   "source": [
    "drinks = [\"coffee\", \"tea\", \"wine\"]\n",
    "enumerate_drinks = enumerate(drinks)             \n",
    "lst = list(enumerate_drinks)\n",
    "print(\"轉成串列輸出, 初始索引值是 0 = \", lst)\n",
    "print(type(lst[0]))"
   ]
  },
  {
   "cell_type": "code",
   "execution_count": 5,
   "metadata": {},
   "outputs": [
    {
     "name": "stdout",
     "output_type": "stream",
     "text": [
      "轉成元組輸出, 初始值是 0 =  ((0, 'coffee'), (1, 'tea'), (2, 'wine'))\n",
      "轉成元組輸出, 初始值是10 =  ((10, 'coffee'), (11, 'tea'), (12, 'wine'))\n"
     ]
    }
   ],
   "source": [
    "drinks = (\"coffee\", \"tea\", \"wine\")\n",
    "enumerate_drinks = enumerate(drinks)               \n",
    "print(\"轉成元組輸出, 初始值是 0 = \", tuple(enumerate_drinks))\n",
    "\n",
    "enumerate_drinks = enumerate(drinks, start = 10)    \n",
    "print(\"轉成元組輸出, 初始值是10 = \", tuple(enumerate_drinks))\n"
   ]
  },
  {
   "cell_type": "code",
   "execution_count": 6,
   "metadata": {},
   "outputs": [
    {
     "name": "stdout",
     "output_type": "stream",
     "text": [
      "<class 'zip'>\n",
      "[('Name', 'Peter'), ('Age', '30'), ('Hometown', 'Chicago')]\n"
     ]
    }
   ],
   "source": [
    "fields = ['Name', 'Age', 'Hometown']\n",
    "info = ['Peter', '30', 'Chicago']\n",
    "zipData = zip(fields, info)        \n",
    "print(type(zipData))                \n",
    "player = list(zipData)          \n",
    "print(player)       "
   ]
  },
  {
   "cell_type": "code",
   "execution_count": 7,
   "metadata": {},
   "outputs": [
    {
     "name": "stdout",
     "output_type": "stream",
     "text": [
      "divmod傳回的資料型態是 :  <class 'tuple'>\n",
      "總共需要 13 天\n",
      "1 小時\n"
     ]
    }
   ],
   "source": [
    "dist = 384400                   # 地球到月亮距離\n",
    "speed = 1225                    # 馬赫速度每小時1225公里\n",
    "total_hours = dist // speed     # 計算小時數\n",
    "data = divmod(total_hours, 24)  # 商和餘數\n",
    "print(\"divmod傳回的資料型態是 : \", type(data))\n",
    "print(f\"總共需要 {data[0]} 天\")\n",
    "print(f\"{data[1]} 小時\")\n"
   ]
  },
  {
   "cell_type": "code",
   "execution_count": 8,
   "metadata": {},
   "outputs": [
    {
     "name": "stdout",
     "output_type": "stream",
     "text": [
      "台北 銷售金額是 80000\n",
      "台中 銷售金額是 50000\n",
      "高雄 銷售金額是 60000\n"
     ]
    }
   ],
   "source": [
    "fields = ['台北', '台中', '高雄']\n",
    "info = [80000, 50000, 60000]\n",
    "zipData = zip(fields, info)             # 執行zip\n",
    "sold_info = tuple(zipData)              # 將zip資料轉成元組\n",
    "for city, sales in sold_info:\n",
    "    print(f'{city} 銷售金額是 {sales}')"
   ]
  }
 ],
 "metadata": {
  "kernelspec": {
   "display_name": "base",
   "language": "python",
   "name": "python3"
  },
  "language_info": {
   "codemirror_mode": {
    "name": "ipython",
    "version": 3
   },
   "file_extension": ".py",
   "mimetype": "text/x-python",
   "name": "python",
   "nbconvert_exporter": "python",
   "pygments_lexer": "ipython3",
   "version": "3.8.13"
  }
 },
 "nbformat": 4,
 "nbformat_minor": 2
}
