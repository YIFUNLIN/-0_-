{
 "cells": [
  {
   "cell_type": "code",
   "execution_count": 7,
   "metadata": {},
   "outputs": [
    {
     "name": "stdout",
     "output_type": "stream",
     "text": [
      "Files already downloaded and verified\n",
      "Files already downloaded and verified\n"
     ]
    }
   ],
   "source": [
    "from torchvision import datasets\n",
    "data_path = r'C:\\Users\\yifun\\Desktop\\資管碩_訓練菜單\\Pytorch\\CH5_CH8'\n",
    "cifar10 = datasets.CIFAR10(data_path, train=True, download=True) # 產生訓練資料集物件（若此資料集未曾被下載至本機，TorchVision便會進行下載）\n",
    "cifar10_val = datasets.CIFAR10(data_path, train=False, download=True) # 當指定train=False，TorchVision會下載驗證資料集"
   ]
  },
  {
   "cell_type": "code",
   "execution_count": 8,
   "metadata": {},
   "outputs": [
    {
     "data": {
      "text/plain": [
       "Dataset CIFAR10\n",
       "    Number of datapoints: 50000\n",
       "    Root location: C:\\Users\\yifun\\Desktop\\資管碩_訓練菜單\\Pytorch\\CH5_CH8\n",
       "    Split: Train"
      ]
     },
     "execution_count": 8,
     "metadata": {},
     "output_type": "execute_result"
    }
   ],
   "source": [
    "cifar10"
   ]
  },
  {
   "cell_type": "code",
   "execution_count": 9,
   "metadata": {},
   "outputs": [
    {
     "data": {
      "text/plain": [
       "Dataset CIFAR10\n",
       "    Number of datapoints: 10000\n",
       "    Root location: C:\\Users\\yifun\\Desktop\\資管碩_訓練菜單\\Pytorch\\CH5_CH8\n",
       "    Split: Test"
      ]
     },
     "execution_count": 9,
     "metadata": {},
     "output_type": "execute_result"
    }
   ],
   "source": [
    "cifar10_val"
   ]
  },
  {
   "cell_type": "code",
   "execution_count": 10,
   "metadata": {},
   "outputs": [
    {
     "data": {
      "text/plain": [
       "(torchvision.datasets.cifar.CIFAR10,\n",
       " torchvision.datasets.vision.VisionDataset,\n",
       " torch.utils.data.dataset.Dataset,\n",
       " typing.Generic,\n",
       " object)"
      ]
     },
     "execution_count": 10,
     "metadata": {},
     "output_type": "execute_result"
    }
   ],
   "source": [
    "type(cifar10).__mro__ #編註：先用type()取得所屬類別，再用__mro__取得類別的繼承順序"
   ]
  },
  {
   "cell_type": "code",
   "execution_count": 11,
   "metadata": {},
   "outputs": [
    {
     "data": {
      "text/plain": [
       "50000"
      ]
     },
     "execution_count": 11,
     "metadata": {},
     "output_type": "execute_result"
    }
   ],
   "source": [
    "len(cifar10)"
   ]
  },
  {
   "cell_type": "code",
   "execution_count": 12,
   "metadata": {},
   "outputs": [
    {
     "data": {
      "text/plain": [
       "(<PIL.Image.Image image mode=RGB size=32x32>, 1, 'automobile')"
      ]
     },
     "execution_count": 12,
     "metadata": {},
     "output_type": "execute_result"
    }
   ],
   "source": [
    "class_names = ['airplane','automobile','bird','cat','deer',\n",
    "               'dog','frog','horse','ship','truck'] #建立一個class_names的字典（dictionary）\n",
    "img, label = cifar10[99] #存取cifar10資料集中索引為99的項目\n",
    "img, label, class_names[label]"
   ]
  },
  {
   "cell_type": "code",
   "execution_count": 13,
   "metadata": {},
   "outputs": [
    {
     "data": {
      "image/png": "[encoded data removed]",
      "text/plain": [
       "<Figure size 640x480 with 1 Axes>"
      ]
     },
     "metadata": {},
     "output_type": "display_data"
    }
   ],
   "source": [
    "from matplotlib import pyplot as plt\n",
    "plt.imshow(img)\n",
    "plt.show()"
   ]
  },
  {
   "cell_type": "code",
   "execution_count": 14,
   "metadata": {},
   "outputs": [
    {
     "data": {
      "text/plain": [
       "['AugMix',\n",
       " 'AutoAugment',\n",
       " 'AutoAugmentPolicy',\n",
       " 'CenterCrop',\n",
       " 'ColorJitter',\n",
       " 'Compose',\n",
       " 'ConvertImageDtype',\n",
       " 'ElasticTransform',\n",
       " 'FiveCrop',\n",
       " 'GaussianBlur',\n",
       " 'Grayscale',\n",
       " 'InterpolationMode',\n",
       " 'Lambda',\n",
       " 'LinearTransformation',\n",
       " 'Normalize',\n",
       " 'PILToTensor',\n",
       " 'Pad',\n",
       " 'RandAugment',\n",
       " 'RandomAdjustSharpness',\n",
       " 'RandomAffine',\n",
       " 'RandomApply',\n",
       " 'RandomAutocontrast',\n",
       " 'RandomChoice',\n",
       " 'RandomCrop',\n",
       " 'RandomEqualize',\n",
       " 'RandomErasing',\n",
       " 'RandomGrayscale',\n",
       " 'RandomHorizontalFlip',\n",
       " 'RandomInvert',\n",
       " 'RandomOrder',\n",
       " 'RandomPerspective',\n",
       " 'RandomPosterize',\n",
       " 'RandomResizedCrop',\n",
       " 'RandomRotation',\n",
       " 'RandomSolarize',\n",
       " 'RandomVerticalFlip',\n",
       " 'Resize',\n",
       " 'TenCrop',\n",
       " 'ToPILImage',\n",
       " 'ToTensor',\n",
       " 'TrivialAugmentWide',\n",
       " '__builtins__',\n",
       " '__cached__',\n",
       " '__doc__',\n",
       " '__file__',\n",
       " '__loader__',\n",
       " '__name__',\n",
       " '__package__',\n",
       " '__path__',\n",
       " '__spec__',\n",
       " '_functional_pil',\n",
       " '_functional_tensor',\n",
       " '_presets',\n",
       " 'autoaugment',\n",
       " 'functional',\n",
       " 'transforms']"
      ]
     },
     "execution_count": 14,
     "metadata": {},
     "output_type": "execute_result"
    }
   ],
   "source": [
    "# 轉換資料集\n",
    "from torchvision import transforms\n",
    "dir(transforms)"
   ]
  },
  {
   "cell_type": "code",
   "execution_count": null,
   "metadata": {},
   "outputs": [
    {
     "data": {
      "text/plain": [
       "torch.Size([3, 32, 32])"
      ]
     },
     "execution_count": 15,
     "metadata": {},
     "output_type": "execute_result"
    }
   ],
   "source": [
    "from torchvision import transforms\n",
    "to_tensor = transforms.ToTensor() # 轉成張量\n",
    "img_t = to_tensor(img)\n",
    "img_t.shape #印出轉換出來的張量shape (C:channel、H:Height、W:Width)"
   ]
  },
  {
   "cell_type": "code",
   "execution_count": 16,
   "metadata": {},
   "outputs": [],
   "source": [
    "tensor_cifar10 = datasets.CIFAR10(data_path, train=True, download=False,\n",
    "                                  transform=transforms.ToTensor())"
   ]
  },
  {
   "cell_type": "code",
   "execution_count": 17,
   "metadata": {},
   "outputs": [
    {
     "data": {
      "text/plain": [
       "torch.Tensor"
      ]
     },
     "execution_count": 17,
     "metadata": {},
     "output_type": "execute_result"
    }
   ],
   "source": [
    "img_t, _ = tensor_cifar10[99] #將tensor_cifar10中索引為99的項目存入img_t\n",
    "type(img_t) #輸出img_t的資料類型"
   ]
  },
  {
   "cell_type": "code",
   "execution_count": 18,
   "metadata": {},
   "outputs": [
    {
     "data": {
      "text/plain": [
       "(torch.Size([3, 32, 32]), torch.float32)"
      ]
     },
     "execution_count": 18,
     "metadata": {},
     "output_type": "execute_result"
    }
   ],
   "source": [
    "img_t.shape, img_t.dtype"
   ]
  },
  {
   "cell_type": "code",
   "execution_count": 19,
   "metadata": {},
   "outputs": [
    {
     "data": {
      "text/plain": [
       "(tensor(0.), tensor(1.))"
      ]
     },
     "execution_count": 19,
     "metadata": {},
     "output_type": "execute_result"
    }
   ],
   "source": [
    "img_t.min(), img_t.max() #輸出img_t的最小值及最大值"
   ]
  },
  {
   "cell_type": "code",
   "execution_count": 20,
   "metadata": {},
   "outputs": [
    {
     "data": {
      "image/png": "[encoded data removed]",
      "text/plain": [
       "<Figure size 640x480 with 1 Axes>"
      ]
     },
     "metadata": {},
     "output_type": "display_data"
    }
   ],
   "source": [
    "plt.imshow(img_t.permute(1, 2, 0))  #將張量的shape從C×H×W改為H×W×C，以符合PyTorch的規範\n",
    "plt.show()"
   ]
  },
  {
   "cell_type": "code",
   "execution_count": 21,
   "metadata": {},
   "outputs": [
    {
     "data": {
      "text/plain": [
       "torch.Size([3, 32, 32, 50000])"
      ]
     },
     "execution_count": 21,
     "metadata": {},
     "output_type": "execute_result"
    }
   ],
   "source": [
    "import torch\n",
    "imgs = torch.stack([img_t for img_t, _ in tensor_cifar10], dim=3)\n",
    "imgs.shape"
   ]
  },
  {
   "cell_type": "code",
   "execution_count": 22,
   "metadata": {},
   "outputs": [
    {
     "data": {
      "text/plain": [
       "tensor([0.4914, 0.4822, 0.4465])"
      ]
     },
     "execution_count": 22,
     "metadata": {},
     "output_type": "execute_result"
    }
   ],
   "source": [
    "imgs.view(3, -1).mean(dim=1) "
   ]
  },
  {
   "cell_type": "code",
   "execution_count": 23,
   "metadata": {},
   "outputs": [
    {
     "data": {
      "text/plain": [
       "tensor([0.2470, 0.2435, 0.2616])"
      ]
     },
     "execution_count": 23,
     "metadata": {},
     "output_type": "execute_result"
    }
   ],
   "source": [
    "imgs.view(3, -1).std(dim=1)"
   ]
  },
  {
   "cell_type": "markdown",
   "metadata": {},
   "source": [
    "## 額外補充（對驗證資料集做同樣的計算）"
   ]
  },
  {
   "cell_type": "code",
   "execution_count": 24,
   "metadata": {},
   "outputs": [],
   "source": [
    "tensor_cifar10_val = datasets.CIFAR10(data_path, train=False, download=False,\n",
    "                          transform=transforms.ToTensor())"
   ]
  },
  {
   "cell_type": "code",
   "execution_count": 25,
   "metadata": {},
   "outputs": [
    {
     "data": {
      "text/plain": [
       "torch.Size([3, 32, 32, 10000])"
      ]
     },
     "execution_count": 25,
     "metadata": {},
     "output_type": "execute_result"
    }
   ],
   "source": [
    "imgs_val = torch.stack([img_t for img_t, _ in tensor_cifar10_val], dim=3)\n",
    "imgs_val.shape"
   ]
  },
  {
   "cell_type": "code",
   "execution_count": 26,
   "metadata": {},
   "outputs": [
    {
     "data": {
      "text/plain": [
       "tensor([0.4942, 0.4851, 0.4504])"
      ]
     },
     "execution_count": 26,
     "metadata": {},
     "output_type": "execute_result"
    }
   ],
   "source": [
    "imgs_val.view(3, -1).mean(dim=1) "
   ]
  },
  {
   "cell_type": "code",
   "execution_count": 27,
   "metadata": {},
   "outputs": [
    {
     "data": {
      "text/plain": [
       "tensor([0.2467, 0.2429, 0.2616])"
      ]
     },
     "execution_count": 27,
     "metadata": {},
     "output_type": "execute_result"
    }
   ],
   "source": [
    "imgs_val.view(3, -1).std(dim=1)"
   ]
  },
  {
   "cell_type": "markdown",
   "metadata": {},
   "source": [
    "### 接續書中內容"
   ]
  },
  {
   "cell_type": "code",
   "execution_count": 28,
   "metadata": {},
   "outputs": [],
   "source": [
    "transformed_cifar10 = datasets.CIFAR10( #對訓練資料集進行正規化\n",
    "    data_path, train=True, download=False,\n",
    "    transform=transforms.Compose([\n",
    "        transforms.ToTensor(),\n",
    "        transforms.Normalize((0.4915, 0.4823, 0.4468), #各通道的平均值\n",
    "                             (0.2470, 0.2435, 0.2616)) #各通道的標準差\n",
    "    ]))\n",
    "\n",
    "cifar10_val = datasets.CIFAR10( #對驗證資料集進行正規化\n",
    "    data_path, train=False, download=False,\n",
    "    transform=transforms.Compose([\n",
    "        transforms.ToTensor(),\n",
    "        transforms.Normalize((0.4915, 0.4823, 0.4468), #編註：驗證集必須使用和訓練集相同的平均值及標準差來正規化\n",
    "                             (0.2470, 0.2435, 0.2616))\n",
    "    ]))"
   ]
  },
  {
   "cell_type": "code",
   "execution_count": 29,
   "metadata": {},
   "outputs": [
    {
     "name": "stderr",
     "output_type": "stream",
     "text": [
      "Clipping input data to the valid range for imshow with RGB data ([0..1] for floats or [0..255] for integers).\n"
     ]
    },
    {
     "data": {
      "image/png": "[encoded data removed]",
      "text/plain": [
       "<Figure size 640x480 with 1 Axes>"
      ]
     },
     "metadata": {},
     "output_type": "display_data"
    }
   ],
   "source": [
    "img_t, _ = transformed_cifar10[99]\n",
    "plt.imshow(img_t.permute(1, 2, 0))\n",
    "plt.show()  # 某些RGB值會因為正規化而超出0.0~1.0範圍，進而改變整個通道的數值量級，Matplotlib會把超出範圍的pixel用黑色表示 "
   ]
  },
  {
   "cell_type": "code",
   "execution_count": 30,
   "metadata": {},
   "outputs": [],
   "source": [
    "label_map = {0: 0, 2: 1} # 將飛機的類別標籤對應到0（原本為0）；將小鳥的類別標籤對應到1（原本為2）\n",
    "class_names = ['airplane', 'bird']\n",
    "\n",
    "cifar2 = [(img, label_map[label])  # 取出原有訓練集中，飛機和小鳥照片\n",
    "          for img, label in transformed_cifar10 \n",
    "          if label in [0, 2]]\n",
    "cifar2_val = [(img, label_map[label]) # 取出原有驗證集中，飛機和小鳥照片\n",
    "              for img, label in cifar10_val\n",
    "              if label in [0, 2]]"
   ]
  },
  {
   "cell_type": "code",
   "execution_count": 31,
   "metadata": {},
   "outputs": [],
   "source": [
    "import torch.nn as nn\n",
    "n_out = 2\n",
    "model = nn.Sequential(\n",
    "            nn.Linear(3072,  #輸入特徵數\n",
    "                      512,   #隱藏層大小（輸出特徵數）\n",
    "                      ),\n",
    "            nn.Tanh(),\n",
    "            nn.Linear(512,   #上一層的隱藏層大小（輸入特徵數）\n",
    "                      n_out, #輸出特徵數（類別數量）\n",
    "                      )\n",
    "        )"
   ]
  },
  {
   "cell_type": "code",
   "execution_count": 32,
   "metadata": {},
   "outputs": [],
   "source": [
    "def softmax(x):\n",
    "    return torch.exp(x) / torch.exp(x).sum() #編註：使用exp()可將輸入元素指數化"
   ]
  },
  {
   "cell_type": "code",
   "execution_count": 33,
   "metadata": {},
   "outputs": [
    {
     "data": {
      "text/plain": [
       "tensor([0.0900, 0.2447, 0.6652])"
      ]
     },
     "execution_count": 33,
     "metadata": {},
     "output_type": "execute_result"
    }
   ],
   "source": [
    "x = torch.tensor([1.0, 2.0, 3.0])\n",
    "softmax(x)"
   ]
  },
  {
   "cell_type": "code",
   "execution_count": 34,
   "metadata": {},
   "outputs": [
    {
     "data": {
      "text/plain": [
       "tensor(1.)"
      ]
     },
     "execution_count": 34,
     "metadata": {},
     "output_type": "execute_result"
    }
   ],
   "source": [
    "softmax(x).sum()"
   ]
  },
  {
   "cell_type": "code",
   "execution_count": 35,
   "metadata": {},
   "outputs": [
    {
     "data": {
      "text/plain": [
       "tensor([[0.0900, 0.2447, 0.6652],\n",
       "        [0.0900, 0.2447, 0.6652]])"
      ]
     },
     "execution_count": 35,
     "metadata": {},
     "output_type": "execute_result"
    }
   ],
   "source": [
    "softmax = nn.Softmax(dim=1) #將softmax函數套用在第1軸（沿著同一列的不同行）\n",
    "x = torch.tensor([[1.0, 2.0, 3.0],\n",
    "                  [1.0, 2.0, 3.0]])\n",
    "softmax(x)"
   ]
  },
  {
   "cell_type": "markdown",
   "metadata": {},
   "source": [
    "### 小編補充"
   ]
  },
  {
   "cell_type": "code",
   "execution_count": 36,
   "metadata": {},
   "outputs": [
    {
     "data": {
      "text/plain": [
       "tensor([[0.5000, 0.5000, 0.5000],\n",
       "        [0.5000, 0.5000, 0.5000]])"
      ]
     },
     "execution_count": 36,
     "metadata": {},
     "output_type": "execute_result"
    }
   ],
   "source": [
    "softmax = nn.Softmax(dim=0) #將softmax函數套用在第0軸\n",
    "x = torch.tensor([[1.0, 2.0, 3.0],\n",
    "                  [1.0, 2.0, 3.0]])\n",
    "softmax(x)"
   ]
  },
  {
   "cell_type": "code",
   "execution_count": 37,
   "metadata": {},
   "outputs": [],
   "source": [
    "model = nn.Sequential(nn.Linear(3072, 512),\n",
    "                      nn.Tanh(),\n",
    "                      nn.Linear(512, 2),\n",
    "                      nn.Softmax(dim=1))"
   ]
  },
  {
   "cell_type": "code",
   "execution_count": 38,
   "metadata": {},
   "outputs": [
    {
     "name": "stderr",
     "output_type": "stream",
     "text": [
      "Clipping input data to the valid range for imshow with RGB data ([0..1] for floats or [0..255] for integers).\n"
     ]
    },
    {
     "data": {
      "image/png": "[encoded data removed]",
      "text/plain": [
       "<Figure size 640x480 with 1 Axes>"
      ]
     },
     "metadata": {},
     "output_type": "display_data"
    }
   ],
   "source": [
    "img, _ = cifar2[0] #取出cifar2中索引為0的圖片\n",
    "plt.imshow(img.permute(1,2,0))\n",
    "plt.show()"
   ]
  },
  {
   "cell_type": "code",
   "execution_count": 39,
   "metadata": {},
   "outputs": [],
   "source": [
    "img_batch = img.view(-1).unsqueeze(0)"
   ]
  },
  {
   "cell_type": "code",
   "execution_count": 40,
   "metadata": {},
   "outputs": [
    {
     "data": {
      "text/plain": [
       "tensor([[0.5451, 0.4549]], grad_fn=<SoftmaxBackward0>)"
      ]
     },
     "execution_count": 40,
     "metadata": {},
     "output_type": "execute_result"
    }
   ],
   "source": [
    "out = model(img_batch)\n",
    "out"
   ]
  },
  {
   "cell_type": "code",
   "execution_count": 41,
   "metadata": {},
   "outputs": [
    {
     "data": {
      "text/plain": [
       "tensor([0])"
      ]
     },
     "execution_count": 41,
     "metadata": {},
     "output_type": "execute_result"
    }
   ],
   "source": [
    "_, index = torch.max(out, dim=1)\n",
    "index"
   ]
  },
  {
   "cell_type": "code",
   "execution_count": 42,
   "metadata": {},
   "outputs": [],
   "source": [
    "model = nn.Sequential(nn.Linear(3072, 512),\n",
    "                      nn.Tanh(),\n",
    "                      nn.Linear(512, 2),\n",
    "                      nn.LogSoftmax(dim=1))"
   ]
  },
  {
   "cell_type": "code",
   "execution_count": 43,
   "metadata": {},
   "outputs": [],
   "source": [
    "loss = nn.NLLLoss()"
   ]
  },
  {
   "cell_type": "code",
   "execution_count": 44,
   "metadata": {},
   "outputs": [
    {
     "data": {
      "text/plain": [
       "tensor(0.8547, grad_fn=<NllLossBackward0>)"
      ]
     },
     "execution_count": 44,
     "metadata": {},
     "output_type": "execute_result"
    }
   ],
   "source": [
    "out = model(img.view(-1).unsqueeze(0))\n",
    "loss(out, torch.tensor([label]))"
   ]
  },
  {
   "cell_type": "code",
   "execution_count": 45,
   "metadata": {},
   "outputs": [
    {
     "name": "stdout",
     "output_type": "stream",
     "text": [
      "Epoch: 0, Loss: 5.019070\n",
      "Epoch: 1, Loss: 6.620277\n",
      "Epoch: 2, Loss: 8.142178\n",
      "Epoch: 3, Loss: 3.755811\n",
      "Epoch: 4, Loss: 14.023635\n",
      "Epoch: 5, Loss: 5.490617\n",
      "Epoch: 6, Loss: 14.085362\n",
      "Epoch: 7, Loss: 2.143678\n",
      "Epoch: 8, Loss: 10.146567\n",
      "Epoch: 9, Loss: 4.481528\n",
      "Epoch: 10, Loss: 6.235968\n",
      "Epoch: 11, Loss: 9.066131\n",
      "Epoch: 12, Loss: 9.102757\n",
      "Epoch: 13, Loss: 3.478018\n",
      "Epoch: 14, Loss: 2.976521\n",
      "Epoch: 15, Loss: 4.626040\n",
      "Epoch: 16, Loss: 12.112199\n",
      "Epoch: 17, Loss: 3.533530\n",
      "Epoch: 18, Loss: 9.357252\n",
      "Epoch: 19, Loss: 9.836843\n",
      "Epoch: 20, Loss: 5.434488\n",
      "Epoch: 21, Loss: 9.749340\n",
      "Epoch: 22, Loss: 7.808353\n",
      "Epoch: 23, Loss: 3.024131\n",
      "Epoch: 24, Loss: 12.800899\n",
      "Epoch: 25, Loss: 8.378663\n",
      "Epoch: 26, Loss: 16.585278\n",
      "Epoch: 27, Loss: 7.832919\n",
      "Epoch: 28, Loss: 9.533617\n",
      "Epoch: 29, Loss: 0.004284\n",
      "Epoch: 30, Loss: 4.591874\n",
      "Epoch: 31, Loss: 4.010969\n",
      "Epoch: 32, Loss: 0.163008\n",
      "Epoch: 33, Loss: 9.309222\n",
      "Epoch: 34, Loss: 7.988622\n",
      "Epoch: 35, Loss: 8.273394\n",
      "Epoch: 36, Loss: 9.316671\n",
      "Epoch: 37, Loss: 14.293026\n",
      "Epoch: 38, Loss: 10.508770\n",
      "Epoch: 39, Loss: 16.166222\n",
      "Epoch: 40, Loss: 15.217064\n",
      "Epoch: 41, Loss: 9.892673\n",
      "Epoch: 42, Loss: 3.238615\n",
      "Epoch: 43, Loss: 10.561296\n",
      "Epoch: 44, Loss: 11.261907\n",
      "Epoch: 45, Loss: 10.640060\n",
      "Epoch: 46, Loss: 5.802529\n",
      "Epoch: 47, Loss: 8.942054\n",
      "Epoch: 48, Loss: 17.281815\n",
      "Epoch: 49, Loss: 14.485540\n",
      "Epoch: 50, Loss: 0.753909\n",
      "Epoch: 51, Loss: 6.755143\n",
      "Epoch: 52, Loss: 8.094505\n",
      "Epoch: 53, Loss: 0.100056\n",
      "Epoch: 54, Loss: 5.188219\n",
      "Epoch: 55, Loss: 2.719690\n",
      "Epoch: 56, Loss: 9.428468\n",
      "Epoch: 57, Loss: 20.060825\n",
      "Epoch: 58, Loss: 8.503023\n",
      "Epoch: 59, Loss: 6.383904\n",
      "Epoch: 60, Loss: 13.385561\n",
      "Epoch: 61, Loss: 11.665183\n",
      "Epoch: 62, Loss: 11.071274\n",
      "Epoch: 63, Loss: 9.088497\n",
      "Epoch: 64, Loss: 12.852216\n",
      "Epoch: 65, Loss: 23.536087\n",
      "Epoch: 66, Loss: 25.150997\n",
      "Epoch: 67, Loss: 3.398340\n",
      "Epoch: 68, Loss: 8.091416\n",
      "Epoch: 69, Loss: 10.329591\n",
      "Epoch: 70, Loss: 7.832460\n",
      "Epoch: 71, Loss: 13.275511\n",
      "Epoch: 72, Loss: 12.919694\n",
      "Epoch: 73, Loss: 1.942348\n",
      "Epoch: 74, Loss: 6.151872\n",
      "Epoch: 75, Loss: 1.109958\n",
      "Epoch: 76, Loss: 0.009568\n",
      "Epoch: 77, Loss: 3.536761\n",
      "Epoch: 78, Loss: 0.006573\n",
      "Epoch: 79, Loss: 0.869727\n",
      "Epoch: 80, Loss: 3.414599\n",
      "Epoch: 81, Loss: 0.852138\n",
      "Epoch: 82, Loss: 4.419801\n",
      "Epoch: 83, Loss: 2.683172\n"
     ]
    },
    {
     "ename": "KeyboardInterrupt",
     "evalue": "",
     "output_type": "error",
     "traceback": [
      "\u001b[1;31m---------------------------------------------------------------------------\u001b[0m",
      "\u001b[1;31mKeyboardInterrupt\u001b[0m                         Traceback (most recent call last)",
      "Cell \u001b[1;32mIn[45], line 16\u001b[0m\n\u001b[0;32m     14\u001b[0m     loss \u001b[38;5;241m=\u001b[39m loss_fn(out, torch\u001b[38;5;241m.\u001b[39mtensor([label]))\n\u001b[0;32m     15\u001b[0m     optimizer\u001b[38;5;241m.\u001b[39mzero_grad()\n\u001b[1;32m---> 16\u001b[0m     \u001b[43mloss\u001b[49m\u001b[38;5;241;43m.\u001b[39;49m\u001b[43mbackward\u001b[49m\u001b[43m(\u001b[49m\u001b[43m)\u001b[49m\n\u001b[0;32m     17\u001b[0m     optimizer\u001b[38;5;241m.\u001b[39mstep()\n\u001b[0;32m     18\u001b[0m \u001b[38;5;28mprint\u001b[39m(\u001b[38;5;124m\"\u001b[39m\u001b[38;5;124mEpoch: \u001b[39m\u001b[38;5;132;01m%d\u001b[39;00m\u001b[38;5;124m, Loss: \u001b[39m\u001b[38;5;132;01m%f\u001b[39;00m\u001b[38;5;124m\"\u001b[39m \u001b[38;5;241m%\u001b[39m (epoch, \u001b[38;5;28mfloat\u001b[39m(loss))) \u001b[38;5;66;03m#每個迴圈結束後，將損失列印出來\u001b[39;00m\n",
      "File \u001b[1;32m~\\AppData\\Roaming\\Python\\Python38\\site-packages\\torch\\_tensor.py:487\u001b[0m, in \u001b[0;36mTensor.backward\u001b[1;34m(self, gradient, retain_graph, create_graph, inputs)\u001b[0m\n\u001b[0;32m    477\u001b[0m \u001b[38;5;28;01mif\u001b[39;00m has_torch_function_unary(\u001b[38;5;28mself\u001b[39m):\n\u001b[0;32m    478\u001b[0m     \u001b[38;5;28;01mreturn\u001b[39;00m handle_torch_function(\n\u001b[0;32m    479\u001b[0m         Tensor\u001b[38;5;241m.\u001b[39mbackward,\n\u001b[0;32m    480\u001b[0m         (\u001b[38;5;28mself\u001b[39m,),\n\u001b[1;32m   (...)\u001b[0m\n\u001b[0;32m    485\u001b[0m         inputs\u001b[38;5;241m=\u001b[39minputs,\n\u001b[0;32m    486\u001b[0m     )\n\u001b[1;32m--> 487\u001b[0m \u001b[43mtorch\u001b[49m\u001b[38;5;241;43m.\u001b[39;49m\u001b[43mautograd\u001b[49m\u001b[38;5;241;43m.\u001b[39;49m\u001b[43mbackward\u001b[49m\u001b[43m(\u001b[49m\n\u001b[0;32m    488\u001b[0m \u001b[43m    \u001b[49m\u001b[38;5;28;43mself\u001b[39;49m\u001b[43m,\u001b[49m\u001b[43m \u001b[49m\u001b[43mgradient\u001b[49m\u001b[43m,\u001b[49m\u001b[43m \u001b[49m\u001b[43mretain_graph\u001b[49m\u001b[43m,\u001b[49m\u001b[43m \u001b[49m\u001b[43mcreate_graph\u001b[49m\u001b[43m,\u001b[49m\u001b[43m \u001b[49m\u001b[43minputs\u001b[49m\u001b[38;5;241;43m=\u001b[39;49m\u001b[43minputs\u001b[49m\n\u001b[0;32m    489\u001b[0m \u001b[43m\u001b[49m\u001b[43m)\u001b[49m\n",
      "File \u001b[1;32m~\\AppData\\Roaming\\Python\\Python38\\site-packages\\torch\\autograd\\__init__.py:193\u001b[0m, in \u001b[0;36mbackward\u001b[1;34m(tensors, grad_tensors, retain_graph, create_graph, grad_variables, inputs)\u001b[0m\n\u001b[0;32m    189\u001b[0m inputs \u001b[38;5;241m=\u001b[39m (inputs,) \u001b[38;5;28;01mif\u001b[39;00m \u001b[38;5;28misinstance\u001b[39m(inputs, torch\u001b[38;5;241m.\u001b[39mTensor) \u001b[38;5;28;01melse\u001b[39;00m \\\n\u001b[0;32m    190\u001b[0m     \u001b[38;5;28mtuple\u001b[39m(inputs) \u001b[38;5;28;01mif\u001b[39;00m inputs \u001b[38;5;129;01mis\u001b[39;00m \u001b[38;5;129;01mnot\u001b[39;00m \u001b[38;5;28;01mNone\u001b[39;00m \u001b[38;5;28;01melse\u001b[39;00m \u001b[38;5;28mtuple\u001b[39m()\n\u001b[0;32m    192\u001b[0m grad_tensors_ \u001b[38;5;241m=\u001b[39m _tensor_or_tensors_to_tuple(grad_tensors, \u001b[38;5;28mlen\u001b[39m(tensors))\n\u001b[1;32m--> 193\u001b[0m grad_tensors_ \u001b[38;5;241m=\u001b[39m \u001b[43m_make_grads\u001b[49m\u001b[43m(\u001b[49m\u001b[43mtensors\u001b[49m\u001b[43m,\u001b[49m\u001b[43m \u001b[49m\u001b[43mgrad_tensors_\u001b[49m\u001b[43m,\u001b[49m\u001b[43m \u001b[49m\u001b[43mis_grads_batched\u001b[49m\u001b[38;5;241;43m=\u001b[39;49m\u001b[38;5;28;43;01mFalse\u001b[39;49;00m\u001b[43m)\u001b[49m\n\u001b[0;32m    194\u001b[0m \u001b[38;5;28;01mif\u001b[39;00m retain_graph \u001b[38;5;129;01mis\u001b[39;00m \u001b[38;5;28;01mNone\u001b[39;00m:\n\u001b[0;32m    195\u001b[0m     retain_graph \u001b[38;5;241m=\u001b[39m create_graph\n",
      "File \u001b[1;32m~\\AppData\\Roaming\\Python\\Python38\\site-packages\\torch\\autograd\\__init__.py:89\u001b[0m, in \u001b[0;36m_make_grads\u001b[1;34m(outputs, grads, is_grads_batched)\u001b[0m\n\u001b[0;32m     87\u001b[0m     \u001b[38;5;28;01mif\u001b[39;00m out\u001b[38;5;241m.\u001b[39mnumel() \u001b[38;5;241m!=\u001b[39m \u001b[38;5;241m1\u001b[39m:\n\u001b[0;32m     88\u001b[0m         \u001b[38;5;28;01mraise\u001b[39;00m \u001b[38;5;167;01mRuntimeError\u001b[39;00m(\u001b[38;5;124m\"\u001b[39m\u001b[38;5;124mgrad can be implicitly created only for scalar outputs\u001b[39m\u001b[38;5;124m\"\u001b[39m)\n\u001b[1;32m---> 89\u001b[0m     new_grads\u001b[38;5;241m.\u001b[39mappend(\u001b[43mtorch\u001b[49m\u001b[38;5;241;43m.\u001b[39;49m\u001b[43mones_like\u001b[49m\u001b[43m(\u001b[49m\u001b[43mout\u001b[49m\u001b[43m,\u001b[49m\u001b[43m \u001b[49m\u001b[43mmemory_format\u001b[49m\u001b[38;5;241;43m=\u001b[39;49m\u001b[43mtorch\u001b[49m\u001b[38;5;241;43m.\u001b[39;49m\u001b[43mpreserve_format\u001b[49m\u001b[43m)\u001b[49m)\n\u001b[0;32m     90\u001b[0m \u001b[38;5;28;01melse\u001b[39;00m:\n\u001b[0;32m     91\u001b[0m     new_grads\u001b[38;5;241m.\u001b[39mappend(\u001b[38;5;28;01mNone\u001b[39;00m)\n",
      "\u001b[1;31mKeyboardInterrupt\u001b[0m: "
     ]
    }
   ],
   "source": [
    "import torch\n",
    "import torch.nn as nn\n",
    "model = nn.Sequential(nn.Linear(3072, 512),\n",
    "                      nn.Tanh(),\n",
    "                      nn.Linear(512, 2),\n",
    "                      nn.LogSoftmax(dim=1))\n",
    "learning_rate = 1e-2\n",
    "optimizer = torch.optim.SGD(model.parameters(), lr=learning_rate)\n",
    "loss_fn = nn.NLLLoss()\n",
    "n_epochs = 100\n",
    "for epoch in range(n_epochs):\n",
    "    for img, label in cifar2:\n",
    "        out = model(img.view(-1).unsqueeze(0))\n",
    "        loss = loss_fn(out, torch.tensor([label]))\n",
    "        optimizer.zero_grad()\n",
    "        loss.backward()\n",
    "        optimizer.step()\n",
    "    print(\"Epoch: %d, Loss: %f\" % (epoch, float(loss))) #每個迴圈結束後，將損失列印出來\n"
   ]
  },
  {
   "cell_type": "code",
   "execution_count": null,
   "metadata": {},
   "outputs": [],
   "source": [
    "train_loader = torch.utils.data.DataLoader(cifar2, batch_size=64, shuffle=True)"
   ]
  },
  {
   "cell_type": "code",
   "execution_count": null,
   "metadata": {},
   "outputs": [
    {
     "name": "stdout",
     "output_type": "stream",
     "text": [
      "Epoch: 0, Loss: 0.353659\n",
      "Epoch: 1, Loss: 0.322632\n",
      "Epoch: 2, Loss: 0.205321\n",
      "Epoch: 3, Loss: 0.312343\n",
      "Epoch: 4, Loss: 0.325948\n",
      "Epoch: 5, Loss: 0.500466\n",
      "Epoch: 6, Loss: 0.343738\n",
      "Epoch: 7, Loss: 0.302689\n",
      "Epoch: 8, Loss: 0.790939\n",
      "Epoch: 9, Loss: 0.234327\n",
      "Epoch: 10, Loss: 0.349185\n",
      "Epoch: 11, Loss: 0.427032\n",
      "Epoch: 12, Loss: 0.309133\n",
      "Epoch: 13, Loss: 0.346126\n",
      "Epoch: 14, Loss: 0.427708\n",
      "Epoch: 15, Loss: 0.281359\n",
      "Epoch: 16, Loss: 0.455504\n",
      "Epoch: 17, Loss: 0.303824\n",
      "Epoch: 18, Loss: 0.244872\n",
      "Epoch: 19, Loss: 0.316976\n",
      "Epoch: 20, Loss: 0.204281\n",
      "Epoch: 21, Loss: 0.223607\n",
      "Epoch: 22, Loss: 0.308675\n",
      "Epoch: 23, Loss: 0.191201\n",
      "Epoch: 24, Loss: 0.273031\n",
      "Epoch: 25, Loss: 0.216673\n",
      "Epoch: 26, Loss: 0.317815\n",
      "Epoch: 27, Loss: 0.172556\n",
      "Epoch: 28, Loss: 0.069955\n",
      "Epoch: 29, Loss: 0.241099\n",
      "Epoch: 30, Loss: 0.093350\n",
      "Epoch: 31, Loss: 0.138967\n",
      "Epoch: 32, Loss: 0.170986\n",
      "Epoch: 33, Loss: 0.198168\n",
      "Epoch: 34, Loss: 0.241753\n",
      "Epoch: 35, Loss: 0.254500\n",
      "Epoch: 36, Loss: 0.221324\n",
      "Epoch: 37, Loss: 0.080410\n",
      "Epoch: 38, Loss: 0.086972\n",
      "Epoch: 39, Loss: 0.139184\n",
      "Epoch: 40, Loss: 0.109673\n",
      "Epoch: 41, Loss: 0.190724\n",
      "Epoch: 42, Loss: 0.114508\n",
      "Epoch: 43, Loss: 0.064424\n",
      "Epoch: 44, Loss: 0.102743\n",
      "Epoch: 45, Loss: 0.188678\n",
      "Epoch: 46, Loss: 0.122163\n",
      "Epoch: 47, Loss: 0.075874\n",
      "Epoch: 48, Loss: 0.077555\n",
      "Epoch: 49, Loss: 0.135358\n",
      "Epoch: 50, Loss: 0.068430\n",
      "Epoch: 51, Loss: 0.035232\n",
      "Epoch: 52, Loss: 0.360996\n",
      "Epoch: 53, Loss: 0.075728\n",
      "Epoch: 54, Loss: 0.012456\n",
      "Epoch: 55, Loss: 0.041514\n",
      "Epoch: 56, Loss: 0.037771\n",
      "Epoch: 57, Loss: 0.068850\n",
      "Epoch: 58, Loss: 0.047208\n",
      "Epoch: 59, Loss: 0.078928\n",
      "Epoch: 60, Loss: 0.037382\n",
      "Epoch: 61, Loss: 0.031085\n",
      "Epoch: 62, Loss: 0.026475\n",
      "Epoch: 63, Loss: 0.167323\n",
      "Epoch: 64, Loss: 0.613133\n",
      "Epoch: 65, Loss: 0.053880\n",
      "Epoch: 66, Loss: 0.031196\n",
      "Epoch: 67, Loss: 0.030403\n",
      "Epoch: 68, Loss: 0.134387\n",
      "Epoch: 69, Loss: 0.026763\n",
      "Epoch: 70, Loss: 0.052149\n",
      "Epoch: 71, Loss: 0.139088\n",
      "Epoch: 72, Loss: 0.016832\n",
      "Epoch: 73, Loss: 0.016117\n",
      "Epoch: 74, Loss: 0.037508\n",
      "Epoch: 75, Loss: 0.025303\n",
      "Epoch: 76, Loss: 0.031495\n",
      "Epoch: 77, Loss: 0.011489\n",
      "Epoch: 78, Loss: 0.025155\n",
      "Epoch: 79, Loss: 0.058322\n",
      "Epoch: 80, Loss: 0.053307\n",
      "Epoch: 81, Loss: 0.023524\n",
      "Epoch: 82, Loss: 0.022355\n",
      "Epoch: 83, Loss: 0.016100\n",
      "Epoch: 84, Loss: 0.132143\n",
      "Epoch: 85, Loss: 0.018328\n",
      "Epoch: 86, Loss: 0.013557\n",
      "Epoch: 87, Loss: 0.070526\n",
      "Epoch: 88, Loss: 0.025413\n",
      "Epoch: 89, Loss: 0.020150\n",
      "Epoch: 90, Loss: 0.021468\n",
      "Epoch: 91, Loss: 0.010325\n",
      "Epoch: 92, Loss: 0.021017\n",
      "Epoch: 93, Loss: 0.012607\n",
      "Epoch: 94, Loss: 0.164218\n",
      "Epoch: 95, Loss: 0.016930\n",
      "Epoch: 96, Loss: 0.010824\n",
      "Epoch: 97, Loss: 0.008559\n",
      "Epoch: 98, Loss: 0.011021\n",
      "Epoch: 99, Loss: 0.023120\n"
     ]
    }
   ],
   "source": [
    "import torch\n",
    "import torch.nn as nn\n",
    "import torch.optim as optim\n",
    "\n",
    "model = nn.Sequential(\n",
    "            nn.Linear(3072, 128),\n",
    "            nn.Tanh(),\n",
    "            nn.Linear(128, 2),\n",
    "            nn.LogSoftmax(dim=1))\n",
    "\n",
    "learning_rate = 1e-2\n",
    "\n",
    "optimizer = torch.optim.SGD(model.parameters(), lr=learning_rate)\n",
    "loss_fn = nn.NLLLoss()\n",
    "n_epochs = 100\n",
    "for epoch in range(n_epochs):\n",
    "    #train_loader = torch.utils.data.DataLoader(cifar2, batch_size=64, shuffle=True)    \n",
    "    for imgs, labels in train_loader:\n",
    "        outputs = model(imgs.view(imgs.shape[0], -1))\n",
    "        loss = loss_fn(outputs, labels)\n",
    "\n",
    "        optimizer.zero_grad()\n",
    "        loss.backward()\n",
    "        optimizer.step()\n",
    "\n",
    "    print(\"Epoch: %d, Loss: %f\" % (epoch, float(loss))) #會列印隨機批次的損失值，在第8章中我們會對其進行改良                                                                                                                                             "
   ]
  },
  {
   "cell_type": "code",
   "execution_count": null,
   "metadata": {},
   "outputs": [
    {
     "name": "stdout",
     "output_type": "stream",
     "text": [
      "Accuracy: 0.800500\n"
     ]
    }
   ],
   "source": [
    "val_loader = torch.utils.data.DataLoader(cifar2_val, batch_size=64,shuffle=False)\n",
    "correct = 0\n",
    "total = 0\n",
    "with torch.no_grad():\n",
    "    for imgs, labels in val_loader:\n",
    "        batch_size = imgs.shape[0]\n",
    "        outputs = model(imgs.view(imgs.shape[0], -1))\n",
    "        _, predicted = torch.max(outputs, dim=1)\n",
    "        total += labels.shape[0]\n",
    "        correct += int((predicted == labels).sum())\n",
    "print(\"Accuracy: %f\" % (correct / total))"
   ]
  },
  {
   "cell_type": "code",
   "execution_count": null,
   "metadata": {},
   "outputs": [],
   "source": [
    "logsoftmax_model = nn.Sequential(nn.Linear(3072, 1024),\n",
    "                                 nn.Tanh(),\n",
    "                                 nn.Linear(1024, 512),\n",
    "                                 nn.Tanh(),\n",
    "                                 nn.Linear(512, 128),\n",
    "                                 nn.Tanh(),\n",
    "                                 nn.Linear(128, 2),\n",
    "                                 nn.LogSoftmax(dim=1))            "
   ]
  },
  {
   "cell_type": "code",
   "execution_count": null,
   "metadata": {},
   "outputs": [],
   "source": [
    "new_model = nn.Sequential(nn.Linear(3072, 1024),\n",
    "                          nn.Tanh(),\n",
    "                          nn.Linear(1024, 512),\n",
    "                          nn.Tanh(),\n",
    "                          nn.Linear(512, 128),\n",
    "                          nn.Tanh(),\n",
    "                          nn.Linear(128, 2))            \n",
    "\n",
    "loss_fn = nn.CrossEntropyLoss()\n",
    "learning_rate = 1e-2\n",
    "optimizer = optim.SGD(new_model.parameters(), lr=learning_rate)"
   ]
  },
  {
   "cell_type": "code",
   "execution_count": null,
   "metadata": {},
   "outputs": [
    {
     "name": "stdout",
     "output_type": "stream",
     "text": [
      "Epoch: 0, Loss: 0.530352\n",
      "Epoch: 1, Loss: 0.830394\n",
      "Epoch: 2, Loss: 0.474451\n",
      "Epoch: 3, Loss: 0.447322\n",
      "Epoch: 4, Loss: 0.177572\n",
      "Epoch: 5, Loss: 0.418154\n",
      "Epoch: 6, Loss: 0.434937\n",
      "Epoch: 7, Loss: 0.380010\n",
      "Epoch: 8, Loss: 0.733828\n",
      "Epoch: 9, Loss: 0.471209\n",
      "Epoch: 10, Loss: 0.540969\n",
      "Epoch: 11, Loss: 0.279584\n",
      "Epoch: 12, Loss: 0.354741\n",
      "Epoch: 13, Loss: 0.296480\n",
      "Epoch: 14, Loss: 0.282056\n",
      "Epoch: 15, Loss: 0.352540\n",
      "Epoch: 16, Loss: 0.225129\n",
      "Epoch: 17, Loss: 0.441133\n",
      "Epoch: 18, Loss: 0.545527\n",
      "Epoch: 19, Loss: 0.437196\n",
      "Epoch: 20, Loss: 0.196957\n",
      "Epoch: 21, Loss: 0.182871\n",
      "Epoch: 22, Loss: 0.634341\n",
      "Epoch: 23, Loss: 0.462622\n",
      "Epoch: 24, Loss: 0.108196\n",
      "Epoch: 25, Loss: 0.403853\n",
      "Epoch: 26, Loss: 0.116971\n",
      "Epoch: 27, Loss: 0.478998\n",
      "Epoch: 28, Loss: 0.163052\n",
      "Epoch: 29, Loss: 0.098198\n",
      "Epoch: 30, Loss: 0.111812\n",
      "Epoch: 31, Loss: 0.069506\n",
      "Epoch: 32, Loss: 0.092506\n",
      "Epoch: 33, Loss: 0.116838\n",
      "Epoch: 34, Loss: 0.166452\n",
      "Epoch: 35, Loss: 0.055567\n",
      "Epoch: 36, Loss: 0.168739\n",
      "Epoch: 37, Loss: 0.042277\n",
      "Epoch: 38, Loss: 0.158596\n",
      "Epoch: 39, Loss: 0.862288\n",
      "Epoch: 40, Loss: 0.048695\n",
      "Epoch: 41, Loss: 0.130784\n",
      "Epoch: 42, Loss: 0.119572\n",
      "Epoch: 43, Loss: 0.016602\n",
      "Epoch: 44, Loss: 0.109642\n",
      "Epoch: 45, Loss: 0.130767\n",
      "Epoch: 46, Loss: 0.027728\n",
      "Epoch: 47, Loss: 0.026201\n",
      "Epoch: 48, Loss: 0.020866\n",
      "Epoch: 49, Loss: 0.148884\n",
      "Epoch: 50, Loss: 0.002921\n",
      "Epoch: 51, Loss: 0.010059\n",
      "Epoch: 52, Loss: 0.003635\n",
      "Epoch: 53, Loss: 0.019007\n",
      "Epoch: 54, Loss: 0.172901\n",
      "Epoch: 55, Loss: 0.186582\n",
      "Epoch: 56, Loss: 0.022307\n",
      "Epoch: 57, Loss: 0.010560\n",
      "Epoch: 58, Loss: 0.047516\n",
      "Epoch: 59, Loss: 0.126341\n",
      "Epoch: 60, Loss: 0.004229\n",
      "Epoch: 61, Loss: 0.011817\n",
      "Epoch: 62, Loss: 0.007577\n",
      "Epoch: 63, Loss: 0.003147\n",
      "Epoch: 64, Loss: 0.008875\n",
      "Epoch: 65, Loss: 0.009039\n",
      "Epoch: 66, Loss: 0.000159\n",
      "Epoch: 67, Loss: 0.122051\n",
      "Epoch: 68, Loss: 0.028774\n",
      "Epoch: 69, Loss: 0.005310\n",
      "Epoch: 70, Loss: 0.011043\n",
      "Epoch: 71, Loss: 0.066690\n",
      "Epoch: 72, Loss: 0.002416\n",
      "Epoch: 73, Loss: 0.006337\n",
      "Epoch: 74, Loss: 0.004966\n",
      "Epoch: 75, Loss: 0.004589\n",
      "Epoch: 76, Loss: 0.000288\n",
      "Epoch: 77, Loss: 0.011600\n",
      "Epoch: 78, Loss: 0.001897\n",
      "Epoch: 79, Loss: 0.001905\n",
      "Epoch: 80, Loss: 0.047148\n",
      "Epoch: 81, Loss: 0.005684\n",
      "Epoch: 82, Loss: 0.003300\n",
      "Epoch: 83, Loss: 0.001451\n",
      "Epoch: 84, Loss: 0.000908\n",
      "Epoch: 85, Loss: 0.005250\n",
      "Epoch: 86, Loss: 0.000967\n",
      "Epoch: 87, Loss: 0.003455\n",
      "Epoch: 88, Loss: 0.002345\n",
      "Epoch: 89, Loss: 0.002835\n",
      "Epoch: 90, Loss: 0.002669\n",
      "Epoch: 91, Loss: 0.000315\n",
      "Epoch: 92, Loss: 0.001217\n",
      "Epoch: 93, Loss: 0.000641\n",
      "Epoch: 94, Loss: 0.013788\n",
      "Epoch: 95, Loss: 0.000865\n",
      "Epoch: 96, Loss: 0.000455\n",
      "Epoch: 97, Loss: 0.000621\n",
      "Epoch: 98, Loss: 0.001301\n",
      "Epoch: 99, Loss: 0.000394\n"
     ]
    }
   ],
   "source": [
    "train_loader = torch.utils.data.DataLoader(cifar2, batch_size=64, shuffle=True) \n",
    "for epoch in range(n_epochs):    \n",
    "    for imgs, labels in train_loader:\n",
    "        outputs = new_model(imgs.view(imgs.shape[0], -1))\n",
    "        loss = loss_fn(outputs, labels)\n",
    "        optimizer.zero_grad()\n",
    "        loss.backward()\n",
    "        optimizer.step()\n",
    "\n",
    "    print(\"Epoch: %d, Loss: %f\" % (epoch, float(loss))) #由於資料經過洗牌，此行程式碼會列印隨機批次的損失值 — 在第8章中我們會對其進行改良"
   ]
  },
  {
   "cell_type": "code",
   "execution_count": null,
   "metadata": {},
   "outputs": [
    {
     "name": "stdout",
     "output_type": "stream",
     "text": [
      "Accuracy: 0.800500\n"
     ]
    }
   ],
   "source": [
    "val_loader = torch.utils.data.DataLoader(cifar2_val, batch_size=64,shuffle=False)\n",
    "correct = 0\n",
    "total = 0\n",
    "with torch.no_grad():\n",
    "    for imgs, labels in val_loader:\n",
    "        #batch_size = imgs.shape[0]\n",
    "        outputs = new_model(imgs.view(imgs.shape[0], -1))\n",
    "        _, predicted = torch.max(outputs, dim=1)\n",
    "        total += labels.shape[0]\n",
    "        correct += int((predicted == labels).sum())\n",
    "print(\"Accuracy: %f\" % (correct / total))"
   ]
  },
  {
   "cell_type": "code",
   "execution_count": null,
   "metadata": {},
   "outputs": [
    {
     "data": {
      "text/plain": [
       "(3737474, [3145728, 1024, 524288, 512, 65536, 128, 256, 2])"
      ]
     },
     "execution_count": 45,
     "metadata": {},
     "output_type": "execute_result"
    }
   ],
   "source": [
    "numel_list = [p.numel()\n",
    "              for p in new_model.parameters()\n",
    "              if p.requires_grad == True] #只計算可訓練參數的數量\n",
    "sum(numel_list), numel_list"
   ]
  },
  {
   "cell_type": "code",
   "execution_count": null,
   "metadata": {},
   "outputs": [
    {
     "data": {
      "text/plain": [
       "(393602, [393216, 128, 256, 2])"
      ]
     },
     "execution_count": 46,
     "metadata": {},
     "output_type": "execute_result"
    }
   ],
   "source": [
    "numel_list = [p.numel() for p in model.parameters()]\n",
    "sum(numel_list), numel_list"
   ]
  },
  {
   "cell_type": "code",
   "execution_count": null,
   "metadata": {},
   "outputs": [
    {
     "data": {
      "text/plain": [
       "(torch.Size([1024, 3072]), torch.Size([1024]))"
      ]
     },
     "execution_count": 47,
     "metadata": {},
     "output_type": "execute_result"
    }
   ],
   "source": [
    "linear = nn.Linear(3072, 1024)\n",
    "linear.weight.shape, linear.bias.shape #輸出weight張量及bias張量的shape"
   ]
  }
 ],
 "metadata": {
  "kernelspec": {
   "display_name": "Python 3",
   "language": "python",
   "name": "python3"
  },
  "language_info": {
   "codemirror_mode": {
    "name": "ipython",
    "version": 3
   },
   "file_extension": ".py",
   "mimetype": "text/x-python",
   "name": "python",
   "nbconvert_exporter": "python",
   "pygments_lexer": "ipython3",
   "version": "3.8.13"
  }
 },
 "nbformat": 4,
 "nbformat_minor": 4
}
