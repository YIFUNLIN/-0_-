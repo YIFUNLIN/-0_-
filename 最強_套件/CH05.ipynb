{
 "cells": [
  {
   "cell_type": "code",
   "execution_count": 3,
   "metadata": {},
   "outputs": [
    {
     "name": "stdout",
     "output_type": "stream",
     "text": [
      "[0 1 2 3 4]\n",
      "[1 2 3 4]\n",
      "[0 2 4 6 8]\n"
     ]
    }
   ],
   "source": [
    "import numpy as np\n",
    "print(np.arange(5))\n",
    "print(np.arange(1,5))\n",
    "print(np.arange(0,10,2))"
   ]
  },
  {
   "cell_type": "code",
   "execution_count": 6,
   "metadata": {},
   "outputs": [
    {
     "name": "stdout",
     "output_type": "stream",
     "text": [
      "[0.   0.25 0.5  0.75 1.  ]\n",
      "[0. 0. 0. 0. 0.]\n",
      "[1. 1. 1. 1. 1.]\n"
     ]
    }
   ],
   "source": [
    "print(np.linspace(0,1,5))\n",
    "print(np.zeros(5))\n",
    "print(np.ones(5))"
   ]
  },
  {
   "cell_type": "code",
   "execution_count": 15,
   "metadata": {},
   "outputs": [
    {
     "name": "stdout",
     "output_type": "stream",
     "text": [
      "[1.76405235 0.40015721 0.97873798 2.2408932  1.86755799]\n",
      "[-0.97727788  0.95008842 -0.15135721 -0.10321885  0.4105985 ]\n",
      "X (seed=0): [1.76405235 0.40015721 0.97873798 2.2408932  1.86755799]\n",
      "Y (seed=0): [1.76405235 0.40015721 0.97873798 2.2408932  1.86755799]\n"
     ]
    }
   ],
   "source": [
    "X = np.random.randn(5)\n",
    "Y = np.random.randn(5)\n",
    "print(X)\n",
    "print(Y)\n",
    "np.random.seed(0)\n",
    "X = np.random.randn(5)\n",
    "np.random.seed(0)\n",
    "Y = np.random.randn(5)\n",
    "print('X (seed=0):', X)\n",
    "print('Y (seed=0):', Y)"
   ]
  },
  {
   "cell_type": "code",
   "execution_count": 20,
   "metadata": {},
   "outputs": [
    {
     "name": "stdout",
     "output_type": "stream",
     "text": [
      "[[3 8]\n",
      " [1 3]\n",
      " [3 3]\n",
      " [7 0]\n",
      " [1 9]]\n",
      "[0.53737323 0.75861562 0.10590761]\n"
     ]
    }
   ],
   "source": [
    "arr1 = np.random.randint(0,11,(5,2)) # 在0~10範圍中，生成出5列2行的matrix\n",
    "print(arr1)\n",
    "\n",
    "arr2 = np.random.rand(3) # 生成在 [0, 1) 之間均勻分布的隨機浮點數，形狀為 (3, 3)\n",
    "print(arr2)"
   ]
  },
  {
   "cell_type": "code",
   "execution_count": 23,
   "metadata": {},
   "outputs": [
    {
     "name": "stdout",
     "output_type": "stream",
     "text": [
      "['奇異果' '草莓' '蘋果' '鳳梨' '鳳梨']\n"
     ]
    }
   ],
   "source": [
    "np.random.seed(0) # 設定隨機種子，可確保隨機產生的結果是可重複的\n",
    "X = ['蘋果', '橘子', '香蕉', '鳳梨', '奇異果', '草莓']\n",
    "print(np.random.choice(X,5))"
   ]
  },
  {
   "cell_type": "code",
   "execution_count": 24,
   "metadata": {},
   "outputs": [
    {
     "name": "stdout",
     "output_type": "stream",
     "text": [
      "arr1:[1 2 3 4 5]\n",
      "arr2:[100   2   3   4   5]\n",
      "arr1:[100   2   3   4   5]\n"
     ]
    }
   ],
   "source": [
    "# Python變數是指向相同的記憶體位置\n",
    "arr1 = np.array([1, 2, 3, 4, 5])\n",
    "print('arr1:'+str(arr1))\n",
    "arr2 = arr1\n",
    "arr2[0] = 100\n",
    "print('arr2:'+str(arr1))\n",
    "print('arr1:'+str(arr2)) # 跟著連動"
   ]
  },
  {
   "cell_type": "code",
   "execution_count": 25,
   "metadata": {},
   "outputs": [
    {
     "name": "stdout",
     "output_type": "stream",
     "text": [
      "arr1:[1 2 3 4 5]\n",
      "arr2:[1 2 3 4 5]\n",
      "arr1:[100   2   3   4   5]\n"
     ]
    }
   ],
   "source": [
    "# 避免連動\n",
    "arr1 = np.array([1, 2, 3, 4, 5])\n",
    "print('arr1:'+str(arr1))\n",
    "arr2 = arr1.copy()\n",
    "arr2[0] = 100\n",
    "print('arr2:'+str(arr1))\n",
    "print('arr1:'+str(arr2)) "
   ]
  },
  {
   "cell_type": "code",
   "execution_count": 28,
   "metadata": {},
   "outputs": [
    {
     "name": "stdout",
     "output_type": "stream",
     "text": [
      "[0 1 2 3 4 5 6 7 8 9]\n",
      "[1 1 1 3 4 5 6 7 8 9]\n"
     ]
    }
   ],
   "source": [
    "arr = np.arange(10)\n",
    "print(arr)\n",
    "arr[0:3] = 1\n",
    "print(arr)"
   ]
  },
  {
   "cell_type": "code",
   "execution_count": 31,
   "metadata": {},
   "outputs": [
    {
     "name": "stdout",
     "output_type": "stream",
     "text": [
      "[2, 4, 6, 8]\n"
     ]
    }
   ],
   "source": [
    "s = [1,2,3,4]\n",
    "new = []\n",
    "for i in s:\n",
    "    i += i\n",
    "    new.append(i)\n",
    "print(new)"
   ]
  },
  {
   "cell_type": "code",
   "execution_count": 33,
   "metadata": {},
   "outputs": [
    {
     "name": "stdout",
     "output_type": "stream",
     "text": [
      "[2 4 6 8]\n"
     ]
    }
   ],
   "source": [
    "s = np.array([1,2,3,4])\n",
    "s += s\n",
    "print(s)"
   ]
  },
  {
   "cell_type": "code",
   "execution_count": 36,
   "metadata": {},
   "outputs": [
    {
     "name": "stdout",
     "output_type": "stream",
     "text": [
      "[ 4 -9 16 -4 20]\n",
      "[ 4  9 16  4 20]\n",
      "[5.45981500e+01 8.10308393e+03 8.88611052e+06 5.45981500e+01\n",
      " 4.85165195e+08]\n",
      "[2.         3.         4.         2.         4.47213595]\n"
     ]
    }
   ],
   "source": [
    "arr = np.array([4, -9, 16, -4, 20])\n",
    "print(arr)\n",
    "\n",
    "arr_abs = np.abs(arr)\n",
    "print(arr_abs)\n",
    "print(np.exp(arr_abs)) # e為底\n",
    "print(np.sqrt(arr_abs)) # 平方根"
   ]
  },
  {
   "cell_type": "code",
   "execution_count": 42,
   "metadata": {},
   "outputs": [
    {
     "name": "stdout",
     "output_type": "stream",
     "text": [
      "[2 5 7 9]\n",
      "[1 2 3 5 7 8 9]\n",
      "[2 5]\n",
      "[7 9]\n"
     ]
    }
   ],
   "source": [
    "arr1 = np.array([2, 5, 7, 9, 5, 2])\n",
    "arr2 = np.array([2, 5, 8, 3, 1])\n",
    "new = np.unique(arr1) # 刪除重複\n",
    "print(new)\n",
    "\n",
    "print(np.union1d(new,arr2)) # 取聯集\n",
    "print(np.intersect1d(new,arr2)) # 取交集\n",
    "print(np.setdiff1d(new,arr2)) # 取差集"
   ]
  },
  {
   "cell_type": "code",
   "execution_count": 45,
   "metadata": {},
   "outputs": [
    {
     "name": "stdout",
     "output_type": "stream",
     "text": [
      "21\n",
      "[5 7 9]\n",
      "[ 6 15]\n"
     ]
    }
   ],
   "source": [
    "arr = np.array([ [1, 2 ,3],[4, 5, 6]])\n",
    "print(arr.sum())\n",
    "print(arr.sum(axis=0)) # columns:0 相加\n",
    "print(arr.sum(axis=1)) # row:1 相加"
   ]
  },
  {
   "cell_type": "code",
   "execution_count": 46,
   "metadata": {},
   "outputs": [
    {
     "name": "stdout",
     "output_type": "stream",
     "text": [
      "66\n"
     ]
    }
   ],
   "source": [
    "arr = np.array([[[0,1,2],[3,4,5]],\n",
    "[[6,7,8],[9,10,11]]])\n",
    "print(arr.sum())"
   ]
  },
  {
   "cell_type": "code",
   "execution_count": 47,
   "metadata": {},
   "outputs": [
    {
     "data": {
      "text/plain": [
       "array([[[ 0,  1,  2],\n",
       "        [ 3,  4,  5]],\n",
       "\n",
       "       [[ 6,  7,  8],\n",
       "        [ 9, 10, 11]]])"
      ]
     },
     "execution_count": 47,
     "metadata": {},
     "output_type": "execute_result"
    }
   ],
   "source": [
    "arr"
   ]
  },
  {
   "cell_type": "code",
   "execution_count": 49,
   "metadata": {},
   "outputs": [
    {
     "name": "stdout",
     "output_type": "stream",
     "text": [
      "[[ 6  8 10]\n",
      " [12 14 16]]\n",
      "[[ 3  5  7]\n",
      " [15 17 19]]\n"
     ]
    }
   ],
   "source": [
    "print(arr.sum(axis=0))\n",
    "print(arr.sum(axis=1))\n"
   ]
  },
  {
   "cell_type": "code",
   "execution_count": 51,
   "metadata": {},
   "outputs": [
    {
     "name": "stdout",
     "output_type": "stream",
     "text": [
      "[[0 1 2 3 4]\n",
      " [5 6 7 8 9]]\n",
      "[[0 5]\n",
      " [1 6]\n",
      " [2 7]\n",
      " [3 8]\n",
      " [4 9]]\n"
     ]
    }
   ],
   "source": [
    "arr = np.arange(10).reshape(2,5)\n",
    "print(arr)\n",
    "\n",
    "print(arr.T)"
   ]
  },
  {
   "cell_type": "code",
   "execution_count": 53,
   "metadata": {},
   "outputs": [
    {
     "name": "stdout",
     "output_type": "stream",
     "text": [
      "[[2 4 8]\n",
      " [1 3 5]]\n",
      "[[3 4 1]\n",
      " [8 5 2]]\n"
     ]
    }
   ],
   "source": [
    "arr = np.array([[8, 4, 2],[3, 5, 1]])\n",
    "\n",
    "print(np.sort(arr))\n",
    "arr.sort(axis=0) # column為主:對每一個column進行排序 eg. [8,3]變[3,8]\n",
    "print(arr)"
   ]
  },
  {
   "cell_type": "code",
   "execution_count": 54,
   "metadata": {},
   "outputs": [
    {
     "name": "stdout",
     "output_type": "stream",
     "text": [
      "[[2 0 1]\n",
      " [2 1 0]]\n"
     ]
    }
   ],
   "source": [
    "print(arr.argsort()) # 回傳由小到大數值排列的索引值"
   ]
  },
  {
   "cell_type": "code",
   "execution_count": 57,
   "metadata": {},
   "outputs": [
    {
     "name": "stdout",
     "output_type": "stream",
     "text": [
      "[[ 0  1  2  3  4]\n",
      " [ 5  6  7  8  9]\n",
      " [10 11 12 13 14]]\n",
      "[[0 1 2 3 4]]\n",
      "[[ 0  0  0  0  0]\n",
      " [ 5  5  5  5  5]\n",
      " [10 10 10 10 10]]\n"
     ]
    }
   ],
   "source": [
    "x = np.arange(15).reshape(3, 5)\n",
    "print(x)\n",
    "y = np.array([np.arange(5)])\n",
    "print(y)\n",
    "\n",
    "z = x - y\n",
    "print(z)"
   ]
  },
  {
   "cell_type": "code",
   "execution_count": null,
   "metadata": {},
   "outputs": [],
   "source": []
  }
 ],
 "metadata": {
  "kernelspec": {
   "display_name": "base",
   "language": "python",
   "name": "python3"
  },
  "language_info": {
   "codemirror_mode": {
    "name": "ipython",
    "version": 3
   },
   "file_extension": ".py",
   "mimetype": "text/x-python",
   "name": "python",
   "nbconvert_exporter": "python",
   "pygments_lexer": "ipython3",
   "version": "3.8.13"
  }
 },
 "nbformat": 4,
 "nbformat_minor": 2
}
