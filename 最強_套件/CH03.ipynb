{
 "cells": [
  {
   "cell_type": "code",
   "execution_count": 2,
   "metadata": {},
   "outputs": [
    {
     "name": "stdout",
     "output_type": "stream",
     "text": [
      "9\n",
      "2\n"
     ]
    }
   ],
   "source": [
    "n = [1, 2, 3, 4, 5,5,3,2,1,1,1,1,1,1,1,1]\n",
    "print(n.count(1)) # 印出1出現次數\n",
    "\n",
    "sentence = 'I love curry !'\n",
    "print(sentence.count('r')) # 計算該token出現次數"
   ]
  },
  {
   "cell_type": "code",
   "execution_count": 4,
   "metadata": {},
   "outputs": [
    {
     "name": "stdout",
     "output_type": "stream",
     "text": [
      "0\n",
      "9\n"
     ]
    }
   ],
   "source": [
    "print(n.index(1)) # 最先出現的索引位置\n",
    "print(sentence.index('r'))"
   ]
  },
  {
   "cell_type": "code",
   "execution_count": 6,
   "metadata": {},
   "outputs": [
    {
     "name": "stdout",
     "output_type": "stream",
     "text": [
      "I LOVE CURRY !\n",
      "i love curry !\n"
     ]
    }
   ],
   "source": [
    "print(sentence.upper())\n",
    "print(sentence.lower())"
   ]
  },
  {
   "cell_type": "code",
   "execution_count": 8,
   "metadata": {},
   "outputs": [
    {
     "name": "stdout",
     "output_type": "stream",
     "text": [
      "apple 有 6個\n",
      "banana 有 2個\n",
      "guava 有 3個\n"
     ]
    }
   ],
   "source": [
    "fruits = [\n",
    "  ['apple', 6],\n",
    "  ['banana', 2],\n",
    "  ['guava', 3],\n",
    "  ]\n",
    "\n",
    "for i,j in fruits:\n",
    "    print('{} 有 {}個'.format(i,j))"
   ]
  },
  {
   "cell_type": "code",
   "execution_count": 10,
   "metadata": {},
   "outputs": [
    {
     "name": "stdout",
     "output_type": "stream",
     "text": [
      "2024-05-25 16:50:34.159219\n",
      "Sat May 25 16:50:34 2024\n"
     ]
    }
   ],
   "source": [
    "import datetime\n",
    "\n",
    "now = datetime.datetime.now()\n",
    "\n",
    "print(now)\n",
    "print(now.ctime())"
   ]
  },
  {
   "cell_type": "code",
   "execution_count": 18,
   "metadata": {},
   "outputs": [
    {
     "name": "stdout",
     "output_type": "stream",
     "text": [
      "<__main__.m object at 0x00000217B1191610>\n",
      "書\n",
      "100\n",
      "商品名稱:書\n",
      " 價格:79.0\n",
      "商品名稱:汽車\n",
      " 價格:850000.0\n"
     ]
    }
   ],
   "source": [
    "class m:\n",
    "    def __init__(self,n,p):\n",
    "        self.name = n         # 屬性\n",
    "        self.price = p\n",
    "    def summary(self):       # 方法\n",
    "        print('商品名稱:{}\\n 價格:{}'.format(self.name, self.price))\n",
    "\n",
    "    def discount(self,rate): \n",
    "        self.price *= rate\n",
    "\n",
    "book = m('書',100)  # 定義物件\n",
    "print(book)\n",
    "print(book.name)\n",
    "print(book.price)\n",
    "book.discount(0.79) # 先進行打折\n",
    "book.summary()\n",
    "\n",
    "car = m('汽車',1000000)\n",
    "car.discount(0.85)\n",
    "car.summary()"
   ]
  },
  {
   "cell_type": "code",
   "execution_count": 3,
   "metadata": {},
   "outputs": [
    {
     "name": "stdout",
     "output_type": "stream",
     "text": [
      "2024-05-25 00:00:00\n",
      "2024/05/25 17-06-30\n"
     ]
    }
   ],
   "source": [
    "import datetime as dt\n",
    "x = dt.datetime(2024,5,25)\n",
    "print(x)\n",
    "\n",
    "y = dt.datetime(2024,5,25,17,6,30)\n",
    "s1 = y.strftime(\"%Y/%m/%d %H-%M-%S\")\n",
    "print(s1)"
   ]
  }
 ],
 "metadata": {
  "kernelspec": {
   "display_name": "base",
   "language": "python",
   "name": "python3"
  },
  "language_info": {
   "codemirror_mode": {
    "name": "ipython",
    "version": 3
   },
   "file_extension": ".py",
   "mimetype": "text/x-python",
   "name": "python",
   "nbconvert_exporter": "python",
   "pygments_lexer": "ipython3",
   "version": "3.8.13"
  }
 },
 "nbformat": 4,
 "nbformat_minor": 2
}
