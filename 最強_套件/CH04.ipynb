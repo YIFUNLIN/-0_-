{
 "cells": [
  {
   "cell_type": "code",
   "execution_count": 5,
   "metadata": {},
   "outputs": [
    {
     "name": "stdout",
     "output_type": "stream",
     "text": [
      "9\n"
     ]
    }
   ],
   "source": [
    "num = lambda x: x if x >= 0 else x**2\n",
    "print(num(-3))"
   ]
  },
  {
   "cell_type": "code",
   "execution_count": 7,
   "metadata": {},
   "outputs": [
    {
     "name": "stdout",
     "output_type": "stream",
     "text": [
      "['I', 'love', 'warriors']\n"
     ]
    }
   ],
   "source": [
    "senc = 'I love warriors'\n",
    "print(senc.split(' '))"
   ]
  },
  {
   "cell_type": "code",
   "execution_count": 15,
   "metadata": {},
   "outputs": [
    {
     "name": "stdout",
     "output_type": "stream",
     "text": [
      "['This', 'is a', 'test', 'sentence']\n",
      "['2020', '05', '20', '12', '30', '45']\n"
     ]
    }
   ],
   "source": [
    "import re\n",
    "sentence = 'This,is a,test.sentence'\n",
    "time_data = '2020/05/20_12:30:45'\n",
    "\n",
    "print(re.split('[,.]',sentence)) #用[]包住，括弧內所提到的東西，如 逗點、句點和空格 都將用來分割字串\n",
    "print(re.split('[/_:]',time_data))\n"
   ]
  },
  {
   "cell_type": "code",
   "execution_count": 12,
   "metadata": {},
   "outputs": [
    {
     "name": "stdout",
     "output_type": "stream",
     "text": [
      "['This,is a,test.sentence']\n"
     ]
    }
   ],
   "source": [
    "sentence = 'This,is a,test.sentence'\n",
    "result = re.split('^[,.]', sentence) #　前面加上^，就代表裡面[]有的都跳過\n",
    "print(result)"
   ]
  },
  {
   "cell_type": "code",
   "execution_count": 19,
   "metadata": {},
   "outputs": [
    {
     "name": "stdout",
     "output_type": "stream",
     "text": [
      "[1, 2, 3, 4, 5]\n"
     ]
    }
   ],
   "source": [
    "# 確保每個出來都正數\n",
    "a = [1, -2, 3, -4, 5]\n",
    "new = []\n",
    "for i in a:\n",
    "    new.append(abs(i))\n",
    "\n",
    "print(new)\n",
    "\n"
   ]
  },
  {
   "cell_type": "code",
   "execution_count": 28,
   "metadata": {},
   "outputs": [
    {
     "name": "stdout",
     "output_type": "stream",
     "text": [
      "['THIS', 'IS', 'A', 'TEST', 'SENTENCE']\n",
      "(<method 'upper' of 'str' objects>, ['This', 'is', 'a', 'test', 'sentence'])\n",
      "<map object at 0x000001C87C86C8B0>\n",
      "['THIS', 'IS', 'A', 'TEST', 'SENTENCE']\n"
     ]
    }
   ],
   "source": [
    "# 全轉大寫\n",
    "str_list = ['This', 'is', 'a', 'test', 'sentence']\n",
    "\n",
    "print((str.upper,str_list)) # str.upper 將所有迭代的元素轉成大寫\n",
    "print(map(str.upper,str_list)) # 再由map去映射，將str.upper轉成大寫後的結果mapping到str_list上，但印出此結果只會顯示存在記憶體的位置\n",
    "print(list(map(str.upper,str_list))) # 還要再轉成list才可以看到改過後的內容"
   ]
  },
  {
   "cell_type": "code",
   "execution_count": 31,
   "metadata": {},
   "outputs": [
    {
     "name": "stdout",
     "output_type": "stream",
     "text": [
      "<function <lambda> at 0x000001C87C890AF0> ['This', 'is', 'a', 'test', 'sentence']\n",
      "<filter object at 0x000001C87C86CAF0>\n",
      "['This', 'test', 'sentence']\n"
     ]
    }
   ],
   "source": [
    "# 過濾掉token長度>3的詞\n",
    "str_list = ['This', 'is', 'a', 'test', 'sentence']\n",
    "print(lambda x: len(x) > 3,str_list) \n",
    "print(filter(lambda x: len(x) > 3,str_list)) \n",
    "print(list(filter(lambda x: len(x) > 3,str_list)))"
   ]
  },
  {
   "cell_type": "code",
   "execution_count": 33,
   "metadata": {},
   "outputs": [
    {
     "name": "stdout",
     "output_type": "stream",
     "text": [
      "['sentence', 'This', 'test', 'is', 'a']\n"
     ]
    }
   ],
   "source": [
    "# 根據token進行反向排序\n",
    "str_list = ['This', 'is', 'a', 'test', 'sentence']\n",
    "print(sorted(str_list,key=len,reverse=True))"
   ]
  },
  {
   "cell_type": "code",
   "execution_count": 36,
   "metadata": {},
   "outputs": [
    {
     "name": "stdout",
     "output_type": "stream",
     "text": [
      "[[0, 9], [1, 8], [2, 7], [3, 6], [4, 5]]\n",
      "[[4, 5], [3, 6], [2, 7], [1, 8], [0, 9]]\n",
      "[[0, 9], [1, 8], [2, 7], [3, 6], [4, 5]]\n"
     ]
    }
   ],
   "source": [
    "n = [\n",
    "  [0, 9],\n",
    "  [1, 8],\n",
    "  [2, 7],\n",
    "  [3, 6],\n",
    "  [4, 5]\n",
    "]\n",
    "\n",
    "print(sorted(n)) # 預設是由第0列的值排列\n",
    "print(sorted(n,key=lambda x:x[1],reverse=False)) # 改規則: 由第二個值大小去排列\n",
    "print(sorted(n,key=lambda x:x[1],reverse=True)) # 改規則: 由第二個值由大到小去排列"
   ]
  },
  {
   "cell_type": "code",
   "execution_count": 41,
   "metadata": {},
   "outputs": [
    {
     "name": "stdout",
     "output_type": "stream",
     "text": [
      "[1, 2, 3, 4, 5]\n"
     ]
    }
   ],
   "source": [
    "a = [1, -2, 3, -4, 5]\n",
    "print([abs(x) for x in a])"
   ]
  },
  {
   "cell_type": "code",
   "execution_count": 45,
   "metadata": {},
   "outputs": [
    {
     "name": "stdout",
     "output_type": "stream",
     "text": [
      "[1, 4, 9, 16, 25]\n",
      "['THIS', 'IS', 'A', 'TEST', 'SENTENCE']\n"
     ]
    }
   ],
   "source": [
    "a = [1, -2, 3, -4, 5]\n",
    "print([x**2 for x in a])\n",
    "\n",
    "str_list = ['This', 'is', 'a', 'test', 'sentence']\n",
    "print([x.upper() for x in str_list])"
   ]
  },
  {
   "cell_type": "code",
   "execution_count": 48,
   "metadata": {},
   "outputs": [
    {
     "name": "stdout",
     "output_type": "stream",
     "text": [
      "[1, 3, 5]\n",
      "['This', 'test', 'sentence']\n"
     ]
    }
   ],
   "source": [
    "a = [1, -2, 3, -4, 5]\n",
    "print([x for x in a if x > 0])\n",
    "\n",
    "str_list = ['This', 'is', 'a', 'test', 'sentence']\n",
    "print([x for x  in str_list if len(x) >= 3])"
   ]
  },
  {
   "cell_type": "code",
   "execution_count": 50,
   "metadata": {},
   "outputs": [
    {
     "name": "stdout",
     "output_type": "stream",
     "text": [
      "[[1, 9], [-2, 8], [3, -7], [-4, -6], [5, -5]]\n",
      "[10, 6, -4, -10, 0]\n"
     ]
    }
   ],
   "source": [
    "a = [1, -2, 3, -4, 5]\n",
    "b = [9, 8, -7, -6, -5]\n",
    "\n",
    "print([[x,y] for x,y in zip(a,b)])\n",
    "print([x + y for x,y in zip(a,b) ])"
   ]
  },
  {
   "cell_type": "code",
   "execution_count": 51,
   "metadata": {},
   "outputs": [
    {
     "name": "stdout",
     "output_type": "stream",
     "text": [
      "[[1, 'A'], [1, 'B'], [2, 'A'], [2, 'B'], [3, 'A'], [3, 'B']]\n"
     ]
    }
   ],
   "source": [
    "a = [1, 2, 3]\n",
    "b = ['A', 'B']\n",
    "\n",
    "print([[x,y] for x in a for y in b]) # 巢狀"
   ]
  },
  {
   "cell_type": "markdown",
   "metadata": {},
   "source": [
    "#### defaultdict :內置的 dict 類，但具有一個顯著的優點：當你訪問一個不存在的鍵時，它會自動為該鍵生成一個默認值，而不會引發 KeyError\n",
    "\n"
   ]
  },
  {
   "cell_type": "code",
   "execution_count": 55,
   "metadata": {},
   "outputs": [
    {
     "name": "stdout",
     "output_type": "stream",
     "text": [
      "defaultdict(<class 'int'>, {'foo': 3, 'bar': 2, 'pop': 1})\n"
     ]
    }
   ],
   "source": [
    "from collections import defaultdict \n",
    "\n",
    "lst = ['foo', 'bar', 'pop', 'foo', 'bar', 'foo']\n",
    "\n",
    "count = defaultdict(int) \n",
    "\n",
    "\"\"\"\n",
    "創建一個 defaultdict 物件 count，默認值類型為 int，而int 是一個可調用對象（函數），\n",
    "在 defaultdict 遇到一個不存在的鍵時被調用。int() 返回 0，因此每當你訪問一個不存在的鍵時，defaultdict 會自動將該鍵的值設置為 0\n",
    "\"\"\"\n",
    "\n",
    "for i in lst:\n",
    "    count[i] += 1\n",
    "print(count)\n"
   ]
  },
  {
   "cell_type": "code",
   "execution_count": 60,
   "metadata": {},
   "outputs": [
    {
     "name": "stdout",
     "output_type": "stream",
     "text": [
      "defaultdict(<class 'list'>, {'apple': [50, 70], 'banana': [120, 150, 700], 'grape': [500]})\n",
      "apple [50, 70]\n",
      "banana [120, 150, 700]\n",
      "grape [500]\n"
     ]
    }
   ],
   "source": [
    "from collections import defaultdict\n",
    "prices = [\n",
    "  ['apple', 50],\n",
    "  ['banana', 120],\n",
    "  ['grape', 500],\n",
    "  ['apple', 70],\n",
    "  ['banana', 150],\n",
    "  ['banana', 700]\n",
    "]\n",
    "\n",
    "f = defaultdict(list)\n",
    "\n",
    "for name,price in prices:\n",
    "    f[name].append(price)\n",
    "\n",
    "print(f)\n",
    "\n",
    "for name,price in f.items():\n",
    "    print(name,price)"
   ]
  },
  {
   "cell_type": "code",
   "execution_count": 67,
   "metadata": {},
   "outputs": [
    {
     "name": "stdout",
     "output_type": "stream",
     "text": [
      "Counter({'foo': 3, 'bar': 2, 'pop': 1})\n",
      "foo 出現 3 次\n",
      "bar 出現 2 次\n",
      "pop 出現 1 次\n",
      "最多出現項目: [('foo', 3)]\n"
     ]
    }
   ],
   "source": [
    "from collections import Counter\n",
    "\n",
    "lst = ['foo', 'bar', 'pop', 'foo', 'bar', 'foo']\n",
    "\n",
    "c = Counter(lst)\n",
    "\n",
    "print(c)\n",
    "\n",
    "for i,j in c.items():\n",
    "    print(i,'出現',j,'次')\n",
    "\n",
    "print('最多出現項目:',c.most_common(1))"
   ]
  }
 ],
 "metadata": {
  "kernelspec": {
   "display_name": "base",
   "language": "python",
   "name": "python3"
  },
  "language_info": {
   "codemirror_mode": {
    "name": "ipython",
    "version": 3
   },
   "file_extension": ".py",
   "mimetype": "text/x-python",
   "name": "python",
   "nbconvert_exporter": "python",
   "pygments_lexer": "ipython3",
   "version": "3.8.13"
  }
 },
 "nbformat": 4,
 "nbformat_minor": 2
}
